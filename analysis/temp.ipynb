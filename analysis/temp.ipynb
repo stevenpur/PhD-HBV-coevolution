{
 "cells": [
  {
   "cell_type": "code",
   "execution_count": 1,
   "metadata": {
    "vscode": {
     "languageId": "r"
    }
   },
   "outputs": [
    {
     "name": "stderr",
     "output_type": "stream",
     "text": [
      "-- \u001b[1mAttaching packages\u001b[22m --------------------------------------- tidyverse 1.3.1 --\n",
      "\n",
      "\u001b[32mv\u001b[39m \u001b[34mggplot2\u001b[39m 3.3.5     \u001b[32mv\u001b[39m \u001b[34mpurrr  \u001b[39m 0.3.4\n",
      "\u001b[32mv\u001b[39m \u001b[34mtibble \u001b[39m 3.1.5     \u001b[32mv\u001b[39m \u001b[34mdplyr  \u001b[39m 1.0.7\n",
      "\u001b[32mv\u001b[39m \u001b[34mtidyr  \u001b[39m 1.1.4     \u001b[32mv\u001b[39m \u001b[34mstringr\u001b[39m 1.4.0\n",
      "\u001b[32mv\u001b[39m \u001b[34mreadr  \u001b[39m 2.0.2     \u001b[32mv\u001b[39m \u001b[34mforcats\u001b[39m 0.5.1\n",
      "\n",
      "-- \u001b[1mConflicts\u001b[22m ------------------------------------------ tidyverse_conflicts() --\n",
      "\u001b[31mx\u001b[39m \u001b[34mtidyr\u001b[39m::\u001b[32mexpand()\u001b[39m masks \u001b[34mMatrix\u001b[39m::expand()\n",
      "\u001b[31mx\u001b[39m \u001b[34mdplyr\u001b[39m::\u001b[32mfilter()\u001b[39m masks \u001b[34mstats\u001b[39m::filter()\n",
      "\u001b[31mx\u001b[39m \u001b[34mdplyr\u001b[39m::\u001b[32mlag()\u001b[39m    masks \u001b[34mstats\u001b[39m::lag()\n",
      "\u001b[31mx\u001b[39m \u001b[34mtidyr\u001b[39m::\u001b[32mpack()\u001b[39m   masks \u001b[34mMatrix\u001b[39m::pack()\n",
      "\u001b[31mx\u001b[39m \u001b[34mtidyr\u001b[39m::\u001b[32munpack()\u001b[39m masks \u001b[34mMatrix\u001b[39m::unpack()\n",
      "\n",
      "Registered S3 method overwritten by 'ggtree':\n",
      "  method      from \n",
      "  identify.gg ggfun\n",
      "\n",
      "ggtree v3.2.1  For help: https://yulab-smu.top/treedata-book/\n",
      "\n",
      "If you use ggtree in published research, please cite the most appropriate paper(s):\n",
      "\n",
      "1. Guangchuang Yu. Using ggtree to visualize data on tree-like structures. Current Protocols in Bioinformatics. 2020, 69:e96. doi:10.1002/cpbi.96\n",
      "2. Guangchuang Yu, Tommy Tsan-Yuk Lam, Huachen Zhu, Yi Guan. Two methods for mapping and visualizing associated data on phylogeny using ggtree. Molecular Biology and Evolution. 2018, 35(12):3041-3043. doi:10.1093/molbev/msy194\n",
      "3. Guangchuang Yu, David Smith, Huachen Zhu, Yi Guan, Tommy Tsan-Yuk Lam. ggtree: an R package for visualization and annotation of phylogenetic trees with their covariates and other associated data. Methods in Ecology and Evolution. 2017, 8(1):28-36. doi:10.1111/2041-210X.12628\n",
      "\n",
      "\n",
      "\n",
      "\n",
      "Attaching package: 'ggtree'\n",
      "\n",
      "\n",
      "The following object is masked from 'package:tidyr':\n",
      "\n",
      "    expand\n",
      "\n",
      "\n",
      "The following object is masked from 'package:Matrix':\n",
      "\n",
      "    expand\n",
      "\n",
      "\n",
      "The following object is masked from 'package:ape':\n",
      "\n",
      "    rotate\n",
      "\n",
      "\n"
     ]
    }
   ],
   "source": [
    "library(ape)\n",
    "library(phangorn)\n",
    "library(Matrix)\n",
    "library(tidyverse)\n",
    "library(ggtree)"
   ]
  },
  {
   "cell_type": "code",
   "execution_count": 7,
   "metadata": {
    "vscode": {
     "languageId": "r"
    }
   },
   "outputs": [],
   "source": [
    "seq_len <- 100\n",
    "pop_size <- 1000\n",
    "Q <- matrix(c(-1, 1, 1, -1), nrow = 2, ncol = 2)\n",
    "bases <- c(\"x\", \"y\")\n",
    "colnames(Q) <- bases\n",
    "rownames(Q) <- bases\n",
    "\n",
    "\n",
    "base_pairs <- expand.grid(bases, bases)\n",
    "base_pairs <- paste0(base_pairs[,1], base_pairs[,2])\n",
    "\n",
    "u <- 0.01\n",
    "#pi <- rep(0.25, 4)\n",
    "#names(pi) <- bases\n",
    "#kappa <- 0.7\n",
    "\n",
    "Qco <- matrix(nrow = 4, ncol = 4)\n",
    "\n",
    "coev_factor <- 100\n",
    "colnames(Qco) <- base_pairs\n",
    "rownames(Qco) <- base_pairs\n",
    "\n",
    "coev_pair <- c(\"yy\")"
   ]
  },
  {
   "cell_type": "code",
   "execution_count": 8,
   "metadata": {
    "vscode": {
     "languageId": "r"
    }
   },
   "outputs": [],
   "source": [
    "# siteA is independantly evolving\n",
    "# siteB is following siteA\n",
    "for (i in 1:nrow(Qco)) {\n",
    "    for (j in 1:ncol(Qco)) {\n",
    "        # skip if there is no change on either sites\n",
    "        if (i == j) {\n",
    "            next\n",
    "        }\n",
    "        siteA_change <- c(strsplit(base_pairs[i], \"\")[[1]][1], strsplit(base_pairs[j], \"\")[[1]][1])\n",
    "        siteB_change <- c(strsplit(base_pairs[i], \"\")[[1]][2], strsplit(base_pairs[j], \"\")[[1]][2])\n",
    "\n",
    "        # treat changes in both sites simultaneously as impossible to happen\n",
    "        if (siteA_change[1] != siteA_change[2] && siteB_change[1] != siteB_change[2]) {\n",
    "            Qco[i, j] <- 0\n",
    "            next\n",
    "        }\n",
    "\n",
    "        # treat one site changes as the changes in the independant model\n",
    "        # first, get the changing base\n",
    "        base_change <- NA\n",
    "        if (siteA_change[1] != siteA_change[2]) {\n",
    "            base_change <- siteA_change\n",
    "            # if the change is at siteA, and not at siteB, then this element is not influence by coev pair because siteA evolve idependantly\n",
    "            Qco[i, j] <- Q[base_change[1], base_change[2]]\n",
    "            next\n",
    "        } else {\n",
    "            base_change <- siteB_change\n",
    "        }\n",
    "        # get the rate of this chanage\n",
    "        Qco[i, j] <- Q[base_change[1], base_change[2]]\n",
    "\n",
    "        # now, consider if coevolution should be consider\n",
    "        if (base_pairs[i] %in% coev_pair) {\n",
    "            Qco[i, j] <- Qco[i, j] / coev_factor\n",
    "        } else if (base_pairs[j] %in% coev_pair) {\n",
    "            Qco[i, j] <- Qco[i, j] * coev_factor\n",
    "        }\n",
    "    }\n",
    "}\n",
    "\n",
    "\n",
    "for (i in 1:nrow(Qco)) {\n",
    "    Qco[i, i] <- -1 * sum(Qco[i, ], na.rm = T)\n",
    "}\n"
   ]
  },
  {
   "cell_type": "code",
   "execution_count": 10,
   "metadata": {
    "vscode": {
     "languageId": "r"
    }
   },
   "outputs": [
    {
     "data": {
      "text/html": [
       "<style>\n",
       ".list-inline {list-style: none; margin:0; padding: 0}\n",
       ".list-inline>li {display: inline-block}\n",
       ".list-inline>li:not(:last-child)::after {content: \"\\00b7\"; padding: 0 .5ex}\n",
       "</style>\n",
       "<ol class=list-inline><li>'xxx'</li><li>'yxx'</li><li>'xyx'</li><li>'yyx'</li><li>'xxy'</li><li>'yxy'</li><li>'xyy'</li><li>'yyy'</li></ol>\n"
      ],
      "text/latex": [
       "\\begin{enumerate*}\n",
       "\\item 'xxx'\n",
       "\\item 'yxx'\n",
       "\\item 'xyx'\n",
       "\\item 'yyx'\n",
       "\\item 'xxy'\n",
       "\\item 'yxy'\n",
       "\\item 'xyy'\n",
       "\\item 'yyy'\n",
       "\\end{enumerate*}\n"
      ],
      "text/markdown": [
       "1. 'xxx'\n",
       "2. 'yxx'\n",
       "3. 'xyx'\n",
       "4. 'yyx'\n",
       "5. 'xxy'\n",
       "6. 'yxy'\n",
       "7. 'xyy'\n",
       "8. 'yyy'\n",
       "\n",
       "\n"
      ],
      "text/plain": [
       "[1] \"xxx\" \"yxx\" \"xyx\" \"yyx\" \"xxy\" \"yxy\" \"xyy\" \"yyy\""
      ]
     },
     "metadata": {},
     "output_type": "display_data"
    }
   ],
   "source": [
    "Qco3 <- matrix(nrow = 8, ncol = 8)\n",
    "base_tri <- expand.grid(bases, bases, bases)\n",
    "base_tri <- paste0(base_tri[,1], base_tri[,2], base_tri[,3])\n",
    "colnames(Qco3) <- base_tri\n",
    "rownames(Qco3) <- base_tri\n",
    "siteAB_coev_pair <- \"yy\"\n",
    "siteBC_coev_pair <- \"yy\"\n",
    "for (i in 1:nrow(Qco3)) {\n",
    "    for (j in 1:ncol(Qco3)) {\n",
    "        # skip if there is no change\n",
    "        if (i == j) {\n",
    "            next\n",
    "        }\n",
    "        siteA_change <- c(strsplit(base_tri[i], \"\")[[1]][1], strsplit(base_tri[j], \"\")[[1]][1])\n",
    "        siteB_change <- c(strsplit(base_tri[i], \"\")[[1]][2], strsplit(base_tri[j], \"\")[[1]][2])\n",
    "        siteC_change <- c(strsplit(base_tri[i], \"\")[[1]][3], strsplit(base_tri[j], \"\")[[1]][3])\n",
    "\n",
    "        siteA_is_change <- as.numeric(siteA_change[1] == siteA_change[2])\n",
    "        siteB_is_change <- as.numeric(siteB_change[1] == siteB_change[2])\n",
    "        siteC_is_change <- as.numeric(siteC_change[1] == siteC_change[2])\n",
    "\n",
    "        # treat changes in >2 sites simultaneously as impossible to happen\n",
    "        if (siteA_is_change + siteB_is_change + siteC_is_change >= 2) {\n",
    "            Qco[i, j] <- 0\n",
    "            next\n",
    "        }\n",
    "\n",
    "        # consider siteA change, this site is changing in independantly from other sites\n",
    "        if (siteA_change == 1) {\n",
    "            Qco3[i, j] <- Q[siteA_change[1], siteB_change[2]]\n",
    "            next\n",
    "        }\n",
    "\n",
    "        # consider siteB change, this site is dependant on the second site\n",
    "        if (siteB_change == 1) {\n",
    "            # get the bases that siteA and B are changing into\n",
    "            baseAB <- paste0(siteA_change[2], siteB_change[2])\n",
    "            if (baseAB %in% )\n",
    "        }\n",
    "        # first, get the changing base\n",
    "        base_change <- NA\n",
    "        if (siteA_change[1] != siteA_change[2]) {\n",
    "            base_change <- siteA_change\n",
    "            # if the change is at siteA, and not at siteB, then this element is not influence by coev pair because siteA evolve idependantly\n",
    "            Qco[i, j] <- Q[base_change[1], base_change[2]]\n",
    "            next\n",
    "        } else {\n",
    "            base_change <- siteB_change\n",
    "        }\n",
    "        # get the rate of this chanage\n",
    "        Qco[i, j] <- Q[base_change[1], base_change[2]]\n",
    "\n",
    "        # now, consider if coevolution should be consider\n",
    "        if (base_pairs[i] %in% coev_pair) {\n",
    "            Qco[i, j] <- Qco[i, j] / coev_factor\n",
    "        } else if (base_pairs[j] %in% coev_pair) {\n",
    "            Qco[i, j] <- Qco[i, j] * coev_factor\n",
    "        }\n",
    "    }\n",
    "}\n",
    "\n",
    "\n",
    "for (i in 1:nrow(Qco)) {\n",
    "    Qco[i, i] <- -1 * sum(Qco[i, ], na.rm = T)\n",
    "}\n",
    "\n"
   ]
  },
  {
   "cell_type": "code",
   "execution_count": 49,
   "metadata": {
    "vscode": {
     "languageId": "r"
    }
   },
   "outputs": [],
   "source": [
    "\n",
    "simseq <- function(tree, start_seq, levs, Q, cur_node = length(tree$tip.label) + 1, result = list(), head_run = T) {\n",
    "    # get the starting state for each base in the sequence\n",
    "    seq_states <- map(start_seq, function(cur_base) {\n",
    "        as.numeric(cur_base == levs)\n",
    "    })\n",
    "    seq_states <- do.call(cbind, seq_states) #each column is the state of a base\n",
    "    children <- Children(tree, cur_node)\n",
    "    for (child in children) {\n",
    "        # get branch length\n",
    "        branch_len <- tree$edge.length[which(tree$edge[, 2] == child)]\n",
    "        child_seq <- map_chr(1:ncol(seq_states), function(i) {\n",
    "            # get the probability of the state after time t (the parent branch length)\n",
    "            cur_state <- seq_states[, i]\n",
    "            state_dist <- cur_state %*% expm(branch_len*Q)\n",
    "            # get the base of the child based on the distribution\n",
    "            cur_base <- sample(levs, 1, prob = as.vector(state_dist))\n",
    "            return(cur_base)\n",
    "        })\n",
    "        if (child > length(tree$tip.label)) {\n",
    "            # has not reach tip yet, go down another level\n",
    "            result <- simseq(tree, child_seq, levs, Q, child, result, F)\n",
    "        } else {\n",
    "            node_name <- tree$tip.label[child]\n",
    "            result[[node_name]] <- child_seq\n",
    "        }\n",
    "    }\n",
    "    if (head_run) {\n",
    "        # get the result into table format before output\n",
    "        result_names <- names(result)\n",
    "        result <- do.call(rbind, result)\n",
    "        rownames(result) <- result_names\n",
    "        result[match(tree$tip.label, rownames(result)), ]\n",
    "    }\n",
    "    return(result)\n",
    "}\n",
    "\n",
    "\n"
   ]
  },
  {
   "cell_type": "code",
   "execution_count": 50,
   "metadata": {
    "vscode": {
     "languageId": "r"
    }
   },
   "outputs": [],
   "source": [
    "hbv_tree <- read.tree(\"~/hbv_covar3/analysis/phylo_build/RAxML_bestTree.HBVA_withOutGroup_tree\")\n",
    "tree <- rtree(pop_size, rooted = T)\n",
    "tree$edge.length <- sample(hbv_tree$edge.length, length(tree$edge.length), replace = TRUE)\n",
    "sim_result_coev <- simseq(tree, c(\"xx\"), base_pairs, Qco)\n",
    "\n"
   ]
  },
  {
   "cell_type": "code",
   "execution_count": 51,
   "metadata": {
    "vscode": {
     "languageId": "r"
    }
   },
   "outputs": [
    {
     "data": {
      "image/png": "[encoded data removed]",
      "text/plain": [
       "plot without title"
      ]
     },
     "metadata": {
      "image/png": {
       "height": 420,
       "width": 420
      }
     },
     "output_type": "display_data"
    }
   ],
   "source": [
    "# plot result\n",
    "data = as.data.frame(sim_result_coev)\n",
    "colnames(data) <- \"sequence\"\n",
    "data$site1 <- map_chr(strsplit(data$sequence, \"\"), 1)\n",
    "data$site2 <- map_chr(strsplit(data$sequence, \"\"), 2)\n",
    "p <- ggtree(tree)\n",
    "gheatmap(p, data = data[, c(\"site1\", \"site2\")])\n",
    "\n",
    "\n",
    "msa <- data[, c(\"site1\", \"site2\")]\n",
    "\n"
   ]
  },
  {
   "cell_type": "markdown",
   "metadata": {},
   "source": [
    "## Anc reconstruction"
   ]
  },
  {
   "cell_type": "code",
   "execution_count": 52,
   "metadata": {
    "vscode": {
     "languageId": "r"
    }
   },
   "outputs": [
    {
     "name": "stderr",
     "output_type": "stream",
     "text": [
      "performing ancestral state reconstruction...\n",
      "\n"
     ]
    }
   ],
   "source": [
    "library(progress)\n",
    "\n",
    "message(\"performing ancestral state reconstruction...\")\n",
    "site_ids <- colnames(msa)\n",
    "anc_restruct <- list()\n",
    "pb <- progress_bar$new(total = length(site_ids))\n",
    "for (site_id in site_ids) {\n",
    "    pb$tick() # update progress\n",
    "    Sys.sleep(1 / length(site_ids))\n",
    "    site <- as.numeric(gsub(\"site\", \"\", site_id))\n",
    "    site_aas <- msa[, site]\n",
    "    names(site_aas) <- rownames(msa)\n",
    "    site_aas_matched <- site_aas[tree$tip.label]\n",
    "    if (length(table(site_aas_matched)) == 1) next\n",
    "    ace_result <- ace(site_aas_matched,\n",
    "        tree,\n",
    "        type = \"discrete\",\n",
    "        method = \"ML\"\n",
    "    )\n",
    "    # add states informatino for tip nodes to anc restruct result\n",
    "    tip_nodes_lik_anc <- map(site_aas_matched, function(x) {\n",
    "        ifelse(colnames(ace_result$lik.anc) == x, 1, 0)\n",
    "    })\n",
    "    tip_nodes_lik_anc <- do.call(rbind, tip_nodes_lik_anc)\n",
    "    ace_result$lik.anc <- rbind(tip_nodes_lik_anc, ace_result$lik.anc)\n",
    "    anc_restruct[[site_id]] <- ace_result\n",
    "}\n",
    "\n"
   ]
  },
  {
   "cell_type": "markdown",
   "metadata": {},
   "source": [
    "## Get homoplasy"
   ]
  },
  {
   "cell_type": "code",
   "execution_count": 53,
   "metadata": {
    "vscode": {
     "languageId": "r"
    }
   },
   "outputs": [],
   "source": [
    "library(phangorn)\n",
    "library(foreach)\n",
    "library(doParallel)"
   ]
  },
  {
   "cell_type": "code",
   "execution_count": 54,
   "metadata": {
    "vscode": {
     "languageId": "r"
    }
   },
   "outputs": [],
   "source": [
    "allele_presense_threshold <- 0.7\n",
    "allele_empty_threshold <- 0.3\n",
    "ncores <- 10\n",
    "\n",
    "registerDoParallel(ncores)\n",
    "allele_switch <- foreach(\n",
    "    site_id = names(anc_restruct),\n",
    "    .combine = \"c\"\n",
    ") %dopar% {\n",
    "    message(site_id)\n",
    "    site <- as.numeric(gsub(\"site\", \"\", site_id))\n",
    "    cur_anc_restruct <- anc_restruct[[site_id]]$lik.anc\n",
    "    cur_switch_allele_tb <- matrix(NA,\n",
    "        nrow = nrow(cur_anc_restruct),\n",
    "        ncol = ncol(cur_anc_restruct)\n",
    "    )\n",
    "    colnames(cur_switch_allele_tb) <- colnames(cur_anc_restruct)\n",
    "    for (node in seq_len(tree$Nnode + Ntip(tree))) {\n",
    "        # get current node state\n",
    "        cur_state <- cur_anc_restruct[node, ]\n",
    "        if (NA %in% cur_state) next\n",
    "        # get parent node state\n",
    "        parent_node <- Ancestors(tree, node, \"parent\")\n",
    "        if (parent_node == 0) next\n",
    "        parent_state <- cur_anc_restruct[parent_node, ]\n",
    "        # identify switch\n",
    "        is_disappear <- (parent_state > allele_presense_threshold &\n",
    "            cur_state < allele_empty_threshold)\n",
    "        is_appear <- (parent_state < allele_empty_threshold &\n",
    "            cur_state > allele_presense_threshold)\n",
    "        is_switch <- is_disappear | is_appear\n",
    "        cur_switch_allele_tb[node, ] <- is_switch\n",
    "    }\n",
    "    result <- list()\n",
    "    result[[site_id]] <- cur_switch_allele_tb\n",
    "    result\n",
    "}"
   ]
  },
  {
   "cell_type": "code",
   "execution_count": 55,
   "metadata": {
    "vscode": {
     "languageId": "r"
    }
   },
   "outputs": [
    {
     "data": {
      "image/png": "[encoded data removed]",
      "text/plain": [
       "plot without title"
      ]
     },
     "metadata": {
      "image/png": {
       "height": 420,
       "width": 420
      }
     },
     "output_type": "display_data"
    }
   ],
   "source": [
    "# plot result\n",
    "options(repr.plot.width=7, repr.plot.height=7)\n",
    "data = as.data.frame(sim_result_coev)\n",
    "colnames(data) <- \"sequence\"\n",
    "data$site2 <- map_chr(strsplit(data$sequence, \"\"), 2)\n",
    "color_data <- data.frame(node = 1:nrow(anc_restruct$site1$lik.anc),\n",
    "    anc = apply(anc_restruct$site2$lik.anc, 1, which.max),\n",
    "    switch = ifelse(rowSums(allele_switch$site2) > 0, 1, 0))\n",
    "p <- ggtree(tree) %<+% color_data + aes(color=anc) + geom_point2(aes(color = switch, subset = (switch == 1)))\n",
    "\n",
    "gheatmap(p, data = data[, c(\"site2\"), drop = F])\n"
   ]
  },
  {
   "cell_type": "markdown",
   "metadata": {
    "vscode": {
     "languageId": "r"
    }
   },
   "source": [
    "## GLM search"
   ]
  },
  {
   "cell_type": "code",
   "execution_count": 56,
   "metadata": {
    "vscode": {
     "languageId": "r"
    }
   },
   "outputs": [],
   "source": [
    "library(seqinr)\n",
    "library(glmnet)\n",
    "library(SIS)\n",
    "library(doParallel)\n",
    "library(foreach)\n",
    "library(itertools)\n",
    "\n",
    "args <- commandArgs(trailingOnly = TRUE)\n",
    "ncores <- 10\n",
    "setwd(\"~/hbv_covar3/\")\n",
    "lg <- list()\n",
    "lg$genotype <- args[1]\n",
    "lg$genes <- c(\"C\", \"P\", \"S\", \"X\")\n",
    "\n",
    "# filter out alleles that do not need to be considered\n",
    "allele_switch_qced <- allele_switch\n",
    "rm_ind <- vector()\n",
    "lg$gap_filter_record <- vector()\n",
    "lg$switch_cnt_allele_filtered <- vector()\n",
    "lg$switch_cnt_site_filtered <- vector()\n",
    "for (i in seq_len(length(allele_switch))) {\n",
    "    site_id <- names(allele_switch)[i]\n",
    "    # can't have 99% site as gap\n",
    "    site <- as.numeric(gsub(\"site\", \"\", site_id))\n",
    "    site_aa <- msa[, site]\n",
    "    names(site_aa) <- rownames(msa)\n",
    "    site_aa_matched <- site_aa[tree$tip.label]\n",
    "    site_freq <- table(site_aa) / length(site_aa)\n",
    "    if (\"-\" %in% names(site_freq)) {\n",
    "        if (site_freq[\"-\"] > 0.99) {\n",
    "            rm_ind <- c(rm_ind, i)\n",
    "            lg$gap_filter_record <- c(lg$gap_filter_record, site_id)\n",
    "            next\n",
    "        }\n",
    "    }\n",
    "    # an allele need to have at least 3 switches\n",
    "    cur_allele_switch <- allele_switch_qced[[site_id]]\n",
    "    switch_cnt <- apply(cur_allele_switch, 2, function(x) sum(x, na.rm = T))\n",
    "    if (length(which(switch_cnt <= 2)) != 0) {\n",
    "        rm_id <- paste0(\n",
    "            site_id,\n",
    "            \"_\",\n",
    "            colnames(cur_allele_switch)[which(switch_cnt <= 2)]\n",
    "        )\n",
    "        lg$switch_cnt_filter_record <- c(lg$switch_cnt_filter_record, rm_id)\n",
    "        allele_switch_qced[[site_id]] <- cur_allele_switch[, switch_cnt >= 3, drop = F]\n",
    "    }\n",
    "    if (ncol(allele_switch_qced[[site_id]]) == 0) {\n",
    "        lg$switch_cnt_site_filtered <- c(lg$switch_cnt_site_filtered, site_id)\n",
    "        rm_ind <- c(rm_ind, i)\n",
    "    }\n",
    "}\n",
    "if (length(rm_ind) > 0) {\n",
    "    allele_switch_qced <- allele_switch_qced[-rm_ind]\n",
    "}\n",
    "\n",
    "site_switch <- map(allele_switch_qced, function(x) {\n",
    "    apply(x, 1, any)\n",
    "})"
   ]
  },
  {
   "cell_type": "code",
   "execution_count": 57,
   "metadata": {
    "vscode": {
     "languageId": "r"
    }
   },
   "outputs": [],
   "source": [
    "# get tree length\n",
    "nodes_n <- tree$Nnode + length(tree$tip.label)\n",
    "root_node <- setdiff(1:nodes_n, tree$edge[, 2])\n",
    "edge_length <- rep(NA, nodes_n)\n",
    "edge_length[tree$edge[, 2]] <- tree$edge.length\n",
    "\n",
    "result <- foreach(chunk = iterate_chunks) %dopar% {\n",
    "    cur_result <- list()\n",
    "    for (i in chunk) {\n",
    "        site_id <- names(site_switch)[i]\n",
    "        message(i)\n",
    "        # fuse the nodes together\n",
    "        site_switch_fused <- site_switch\n",
    "        dep_sites <- names(site_switch_fused)[-which(names(site_switch_fused) %in% site_id)]\n",
    "        dep_sites <- do.call(cbind, site_switch_fused[dep_sites])\n",
    "        dep_sites <- apply(dep_sites, 2, as.numeric)\n",
    "        data <- cbind(site_switch[[site_id]], edge_length, dep_sites)\n",
    "        # remove cols/rows with too many NA\n",
    "        rm_row <- unlist(apply(data, 1, function(x) {\n",
    "            freq <- sum(is.na(x)) / length(x)\n",
    "            if (freq > 0.1) {\n",
    "                return(T)\n",
    "            } else {\n",
    "                return(F)\n",
    "            }\n",
    "        }))\n",
    "\n",
    "        rm_col <- unlist(apply(data, 2, function(x) {\n",
    "            freq <- sum(is.na(x)) / length(x)\n",
    "            if (freq > 0.1) {\n",
    "                return(T)\n",
    "            } else {\n",
    "                return(F)\n",
    "            }\n",
    "        }))\n",
    "        if (length(rm_row)) {\n",
    "            data <- data[!(rm_row), !(rm_col)]\n",
    "        }\n",
    "        y <- data[, 1]\n",
    "        x <- data[, -1, drop = F]\n",
    "        mysd <- function(y) sqrt(sum((y - mean(y))^2) / length(y))\n",
    "        sx <- scale(x, scale = apply(x, 2, mysd))\n",
    "        start_lambda <- max(abs(colSums(sx * y))) / nrow(x)\n",
    "        # add 100 lambdas before start lambda for warm up\n",
    "        lambdas <- map_dbl(1:100, function(i) start_lambda * (1 / 0.99)^(i - 1))\n",
    "        lambdas <- c(lambdas, map_dbl(1:687, function(i) start_lambda * (0.99)^(i - 1)))\n",
    "        lambdas <- sort(lambdas)\n",
    "        cur_result[[site_id]] <- glmnet(data[, -1], data[, 1], family = \"binomial\", lambda = lambdas)\n",
    "        # select beta via ebic\n",
    "        ebic <- map_dbl(1:length(cur_result[[site_id]]$lambda), function(j) {\n",
    "            lambda <- cur_result[[site_id]]$lambda[j]\n",
    "            cur_ebic <- deviance(cur_result[[site_id]])[j] +\n",
    "                sum(cur_result[[site_id]]$beta[, j] != 0) * log(nrow(data)) +\n",
    "                2 * log(choose(ncol(data[, -1]), sum(cur_result[[site_id]]$beta[, j] != 0)))\n",
    "        })\n",
    "        message(length(ebic))\n",
    "        message(\"hi\")\n",
    "        min.ind <- which.min(ebic)\n",
    "        beta_col <- cur_result[[site_id]]$beta[, min.ind]\n",
    "        beta <- names(beta_col)[which(beta_col != 0)]\n",
    "        message(beta)\n",
    "        cur_result[[site_id]]$selected_beta <- beta\n",
    "    }\n",
    "    return(cur_result)\n",
    "}\n",
    "\n",
    "result <- unlist(result, recursive = F)\n",
    "\n",
    "\n",
    "#saveRDS(result, paste0(\"./analysis/lasso_covar_hbv\", lg$genotype, \".rds\"))"
   ]
  },
  {
   "cell_type": "code",
   "execution_count": 58,
   "metadata": {
    "vscode": {
     "languageId": "r"
    }
   },
   "outputs": [
    {
     "name": "stderr",
     "output_type": "stream",
     "text": [
      "hi: 787\n",
      "\n",
      "000000000000000000000000000000000000000000000000000000000000000000000000000000000000000000000000000000000000000000000000000000000000000000000000000000000000000000000000000000000000000000000000000000000000.30105425987337100.53333308017998400.72267093509640500.88261798738167101.0211721969213301.1434511584667201.2529281323051201.352068852808701.442687095969201.5261214959180401.6035087141275201.6756530945725101.7432322894549201.8067997308873401.8668132351484101.9236562285451201.977651723473802.02907606488302.0781665416942402.125128629496602.1701414383397402.2133620420816502.2549289541142502.2949649437824702.3335793381055602.3708699176903402.4069244897805602.4418222022467202.4756346480837602.5084267992616502.540257800616502.5711816482250802.6012477718622102.6305015373672102.6589846817821402.6867356917780802.7137901340101902.7401809445504302.7659386833332502.7910917585687302.8156666252793402.8396879614598102.8631788248177502.8861607926123502.9086540867276402.9306776858153702.9522494260757802.9733860920343502.9941034984778503.0144165645668203.0343393810026603.0538852710140103.0730668458358803.0918960552642503.1103842338040803.1285421428599503.146380009375503.16390756126603.1811340599671603.198068330369303.2147187883897903.2310934664014803.2472000367150503.2630458332902703.2786378718342603.2939828684296103.3090872568164703.3239572044475703.3385986274147103.3530172043438703.3672183893431303.3812074240762803.3949893490361403.4085690140781403.4219510882711203.4351400691200603.4481402912055303.4609559342842603.4735910308915103.4860494734816603.4983350211373803.5104513058823903.5224018386213203.5341900147379203.5458191193677703.5572923323753203.5686127330501403.5797833045420903.5908069380536303.6016864368041303.612424519781103.623023825292103.6334869143293103.643816273758803.6540143193457303.6640833986250103.6740257936261703.6838437234627303.6935393467928703.7031147641588103.7125720202136803.7219131058394103.7311399601654103.7402544724900603.7492584841137603.7581537900857903.7669421408712203.7756252439418503.784204765295603.7926823309067803.8010595281134303.8093379069423403.8175189813770903.825604230570503.8335951000059903.8414679940460103.8492741001108603.8569900948052503.8646171816750303.8721566530043703.8796097739853503.8869777830153103.8942618925216603.901463289757703.9085831375655903.915622575110503.9225827185856103.9294646618897703.9362694772797903.9429982159971703.9496519088715203.9562315669015103.9627381818138203.9691727266019903.9755361560448103.981829407206503.9880533999184503.9942090372438104.0002972059255904.0063187768190404.0122746053084504.0181655317096304.0239923816590504.0297559664885304.0354570835880604.0410965167561804.0466750365380404.0521934005529904.0576523538107104.0630526290170204.0683949468704304.0736800163475804.0789085349813404.0840811891283304.0891986542290404.094255512728660.8443279409844844.093023038871951.717320167029144.091575979287482.545989757627784.090457112404093.332284068338294.089648709976594.078350281730244.089131501427774.786360548440444.088886171314655.45847718767684.088893655770616.096823689266734.089135382323716.703461565231644.0895934558977.280372874595514.090250794088217.829447913244234.091091217328148.352477377257954.092099500765148.851148240639514.09326139501339.327042601339824.094563622552049.781638811978464.0959938558459810.21631429966434.0975406823657110.63234957593674.0991935607713411.0309330321344.1009427716541511.41316620126574.1027793654637611.78006924182254.1046951095953212.13258646111524.1066824360747212.47159174625454.1087343908509212.79789381097944.1108445853690513.11224119766864.1130071508420113.41532699758784.1152166954461113.70779327011664.1174682645265413.99023515460474.1197573037982114.26320467769994.1220796254586714.52721426530814.1244313770843514.78273997250364.1268090131536815.03022444725014.1292092690251615.27007964514714.1316291371928615.50268931292614.1340658456422715.72841125832654.1365168381342615.9475794234764.1389797562529616.16050577813584.1414524230626616.36748204823634.1439328282293116.56878129411144.1464191144733116.76465935179184.1489095652304216.95535614966484.151402593408517.14109691179824.1538967311377217.32209325825474.1563906204206517.49854421180664.1588830045980317.67063711961494.1613727205533417.83854849764694.1638586915871918.0024448048814.1663399208986418.16248315368614.1688154856172118.31881196216074.1712845313344718.47157155366434.1737462670891118.62089470827414.1761999607642518.76690717045624.1786449348590718.90972811682424.181080562601419.04947058749444.1835062643705419.18624188421394.1859215044025419.32014393813814.1883257877534519.45127364986094.190718657497619.57972320406464.1930996921406919.70558036092624.1954685032293719.82892872622834.1978247331401919.94984800194134.2001680530332820.06841421887724.2024981609565520.1846999528794.2048147800882220.29877452587184.2071176571061220.41070419298454.209406560673720.52055231684744.2116812800330520.6283795300684.2139416236966720.73424388680474.2161874182299220.83820100427864.2184185071173420.94030419498594.2206347497060621.04060459031734.2228360202205621.13915125622334.225022206843221.23599130151624.2271932108557821.33116997934684.2293489458373321.42473078235454.2314893369141121.5167155319424.2336143200579521.6071644620974.2357238414293921.69611629814274.2378178567625621.78360833077424.2398963307885221.86967648570494.2419592366946221.95435538922654.2440065556172522.03767842995784.2460382761656222.11967781704154.2480543939745322.20038463502384.2500549112840622.27982889563794.2520398365444622.35803958669214.2540091840444322.43504471825344.2559629735613622.51087136629674.2579012300320322.5855457139854.2598239832423622.65909309072794.2617312675351822.73153800915714.2636231215345722.80290420015054.2654995878860622.87321464602324.2673607130113422.94249161199634.2692065468768723.01075667605064.2710371427753423.07803075725864.272852557119223.14433414268764.2746528492457223.20968651295674.276438081232523.27410696652724.2782083177233223.33761404279884.2799636257631123.40022574408084.2817040746420823.46195955650274.2834297357480423.52283246992334.2851406824267123.58286099689394.2868369898493223.64206119073084.2885187348873423.70044866274224.2901859959937123.75803859865924.2918388530903123.81484577431254.2934773874613523.87088457059524.2951016816522323.92616898774984.2967118193736723.98071265901674.2983078854108324.0345288636754.2998899655370124.08763053951054.3014581464318424.14003029473684.3030125156036524.19174041940184.3045531613158224.24277289630194.3060801725167924.29313941143124.307593638773724.34285136398854.3090936502094224.39191987596334.3105802974426524.44035580132264.3120536715311624.48816973481824.3135138639178624.53537202043164.3149609663795324.58197275947534.3163950709782524.62798181836684.3178162700151424.67340883609074.3192246559865624.71826323136324.3206203215424124.76255420951414.3220033594466324.80629076909834.3233738625395824.84948170825014.3247319237024524.89213563079164.3260776358233324.93426095210754.3274110917651224.9758659047954.3287323843350425.01695854410064.330041606255625.05754675315324.3313388501372225.09763824800134.3326242084520925.13724058246414.3338977735094925.17636115280484.335159637432325.21500720223264.3364098921348325.2531858252424.3376486293017125.29090397179624.3388759403679325.32816845136054.3400919164999325.36498593679334.341296648577725.40136296809914.3424902271778525.43730595605114.3436727425575725.47282118568764.3448442846394325.50791481968724.3460049429971425.54259290162944.3471548068419425.57686135914294.3482939650098825.6107260069494.3494225059497425.64419254980114.3505405177117125.67433328480074.3510471441436825.70994489927964.3527339630000125.73937144635744.3532386326550725.77417897351174.3548977710577725.80290512427714.3553931840112225.83692849719624.3570212649156325.8649741157944.3575075226761925.89823386326184.3591050583903925.9256181223664.3595823060195625.95511397544894.3603952307763625.98451841105964.3613356637028226.01362272790884.3623156255434326.04240329515834.3633032873621426.07085844061014.3642875309483926.09899063366164.3652645337354326.1268034902854.3662330172958326.15430097302894.3671925885952126.1814871242724.3681431625601426.20836597199214.3690847610800126.23494149661334.3700174430004226.26121761991844.3709412797217526.28719820194424.3718563466866726.31288704074624.3727627204077226.33828787317744.3736604774280726.3634043760114.3745496939574526.3882401671624.375430445744226.41279880692324.3763028080299226.43708379918344.3771668555333226.46109859261754.3780226624442326.48484658184664.378870302421426.50833110856694.3797098485917126.53155546264764.3805413735499526.55452288319974.3813649493589626.57723655961554.3821806475499226.59969963258074.3829885391228426.62191519505914.3837886945471626.64388629325194.3845811837625226.66561592753074.3853660761796226.68710705334724.3861434406812326.70836258211844.3869133456232926.72938538208964.3876758588361126.75017827917464.3884310476257326.7707440577754.3891789787752926.79108546157854.3899197185465526.81120519433684.3906533326815326.83110592062464.3913798864041526.8507902665794.3920994444219826.87026082062114.3928120709281426.88952013415964.3935178296031726.90857072227734.3942167836170226.92741506440094.3949089956311126.94605560495424.3955945278004226.96449475399654.3962734417756926.98273488784474.3969457987056227.00077834968114.3976116592391627.01862745014744.3982710835278527.03628446792364.3989241312281827.05375165029434.3995708615040127.07103121370144.4002113330290827.08812534428444.4008456039894327.10503619840814.4014737320860427.1217659031784.4020957745373327.13831655694464.4027117880818327.15469022979614.4033218289807627.17088896403974.4039259530207627.18691477467274.4045242155165527.20276964984294.405116671313727.2184555512994.405703374791327.23397441483074.4062843798648127.24932815070024.406859739988827.2645186440634.4074295081597927.27954775538094.4079937369190427.29441732082564.4085524783554227.30912915267344.4091057841082727.32368503969224.4096537053702427.33808674751984.410196292890227.35233601903494.410733596976127.36643457471974.411265667497927.38038411301544.4117925538904627.39418631067024.4123143051564727.40784282308074.4128309698693627.42135528462534.4133425961762327.43472530899184.4138492318007627.44795448949834.4143509240461827.46104439940694.4148477197981827.47399659223224.4153396655278527.48681260204324.4158268072946427.49949394375884.4163091907492427.51204211343844.4167868611365827.52445858856634.4172598632987327.53674482833074.4177282416778127.54890227389724.4181920403189727.56093234867734.4186513028732727.57283645859174.4191060726006227.58461599232824.419556392372727.59627232159564.4200023046758427.6078068013724.4204438516139327.61922077014884.4208810749113527.63051555017024.421314015915827.64169244766834.4217427156012327.65275275309374.4221672145706927.66369774134184.4225875530591927.67452867197554.4230037709365727.68524678944344.423415907710327.69585332329394.4238240025283927.70634948838634.4242280941821527.71673648509724.4246282211090227.72701549952344.4250244213953927.73718770368214.4254167327793827.74725425570644.4258051926536327.75721630003794.4261898380680127.76707496761624.4265707057324927.77683137606494.4269478320197727.78648662987374.4273212529680827.7960418205794.4276910042838727.80549802693974.4280571213445227.8148563151114.4284196392010327.82411773881494.4287785925807327.83328333950844.4291340158898727.84235414654774.4294859432163627.85133117735094.4298344083323327.86021543755744.4301794446968227.86900792118454.4305210854583227.87770961078214.4308593634574327.8863214775844.4311943112293927.89484448165754.4315259610066727.903279572054.4318543447214927.91162768693354.4321794940084127.9198897537474.432501440206827.9280666893364.4328202143633627.93615940009064.4331358472346127.94416878208054.4334483692893527.95209572118844.4337578107111727.95994109324144.4340642014008227.96770576414024.4343675709786827.97539058998594.4346679487871927.98299641720554.4349653638931727.99052408267484.4352598450903227.997974413844.4355514209014528.00534822883724.4358401195809528.01264633660984.4361259691170428.01986953702454.4364089972341428.02701862098524.4366892313951428.03409437054564.4369666988036928.04109755901994.4372414264065128.04802895109154.4375134408955728.05488930292074.437782768710428.06167936225024.4380494360402928.06839986850984.4383134688264828.07505155291854.4385748927643928.0816351385864.4388337333057228.08815134061244.4390900156607328.09460086618634.4393437648002728.10098441468194.4395950054579828.10730267775394.4398437621323728.1135563394324.4400900590889228.11974607621354.4403339203621828.12587255715424.4405753697578428.13193644395934.4408144308547528.13793839107124.4410511270069728.14387904575774.4412854813458228.14975904819814.4415175167818228.15557903156814.4417472560067528.16133962212384.4419747214955828.16704143928434.4421999355084528.17268509571334.4424229200925928.17827119739974.4426436970842928.18380034373634.4428622881107628.18927312759874.4430787145920728.19469013542214.4432929977430428.20005194727714.4435051585750528.20535913694534.4437152178979628.21061227199284.4439231963219128.21581191384364.4441291142591828.22095861785134.4443329919259628.22605293337014.4445348493441528.23109540382534.4447347063431928.23608656678214.4449325825617528.24102695401364.4451284974495628.2459170915694.4453224702690828.25075749983884.4455145200972628.25554869362134.4457046658272728.26029118218684.4458929261701328.26498546934164.4460793196564628.26963205349084.446263864638128.27423142770084.4464465792897928.278784079764.446627481610828.28329049224014.4468065894265728.28775114255524.4469839203902928.29216650302154.4471594919845328.29653704091454.4473333215228128.30086321852754.4475054261511928.30514549322764.4476758228498228.30938431751234.4478445284344628.31358013906414.4480115595580628.31773340080564.4481769327122428.32184454095334.4483406642288328.32591399307054.4485027702813228.32994218612024.448663266886428.33392954451694.4488221699053728.33787648817744.4489794950456428.3417834325724.4491352578621528.34565078877394.4492894737588128.34947896350894.4494421579898928.35326835920364.4495933256614928.35701937403414.4497429917328728.36073240197314.4498911710178728.36440783283684.4500378781862528.36804605233134.4501831277650928.37164744209844.4503269341400828.37521237976084.4504693115569128.37874123896644.4506102741225628.3822343894334.4507498358066228.38569219699114.4508880104425828.38911502362754.4510248117291328.39250322752774.4511602532314328.39585716311744.4512943483823828.39917718110474.4514271104838628.40246362852044.4515585527080128.40571684875894.4516886880984228.40893718161794.4518175295713528.41212496333814.4519450899169828.4152805266424.4520713818005828.41840420077284.4521964177636928.42149631153214.4523202102253428.42455718131794.4524427714831528.42758712916144.4525641137145728.43058647076414.4526842489779428.4335555185344.4528031892136928.43649458162134.4529209462454428.43940396595414.4530375317811228.44228397427344.4531529574140728.44513490616764.4532672346241528.44795705810674.453380374778828.45075072347654.4534923891341428.45351619261144.4536032888360328.4562537528284.4537130849211128.45896368845724.4538217883178928.46164628087714.4539294098477128.46430180854424.4540359602258728.46693054702554.4541414500625428.46953276902944.4542458898638528.47210874443644.4543492900328728.47465874032954.4544516608705628.47718302102464.4545530125768228.47968184809994.4546533552513928.48215548042554.4547526988948928.48460417419244.4548510534096928.48702818294124.4549484286009328.48942775759024.4550448341774128.49180314646414.4551402797525528.49415459532114.4552347748452928.49648234738094.4553283288809928.49878664335134.4554209511923728.50106772145524.4555126510203828.50332581745744.4556034375150728.50556116469014.4556933197365228.50777399407964.4557823066556628.50996453417144.4558704071551528.51213301115554.4559576300302328.51427964889184.4560439839895728.51640466893454.4561294776561328.51850829055684.4562141195679228.52059073077494.4562979181789328.5226522043724.4563808818598228.52469292392214.4564630188988528.52671309981314.4565443375025728.52871294027034.456624845796728.53069265137894.4567045518268728.53265243710684.4567834635593828.5345924993274.4568615888820328.53651303783964.4569389356048228.53841425039364.4570155114607528.54029633270894.4570913241065328.54215947849714.4571663811233728.54400387948334.4572406900176728.54582972542644.4573142582217728.54763720414034.4573870930946628.54942650151384.457459201922728.55119780153144.4575305919203428.5529512862934.4576012702307728.55468713603354.4576712439266928.55640552914294.4577405200109428.5581066421854.4578091054171928.55979064991714.4578770070106528.56145772530874.4579442315886728.56310803955994.4580107858814828.56474176212064.4580766765527728.56635906070824.4581419102004228.56796010132614.4582064933570528.56954504828134.4582704324907428.57111406420224.4583337340056228.57266731005664.4583964042424828.57420494516814.4584584494794428.57572712723414.4585198759325128.57723401234244.4585806897562428.57872575498794.4586408970442628.58020250808944.4587005038299728.58166442300574.4587595160870328.58311164955234.4588179397300228.5845443360174.4588757806149728.58596262917614.4589330445399528.58736667430994.4589897372456728.58875661521854.4590458644159728.59013259423674.4591014316784328.59149475224994.4591564446049328.59284322870834.4592109087121528.59417816164284.4592648294621528.59549968767874.4593182122628828.59680794205094.4593710624687428.59810305861824.4594233853810628.59938516987754.4594751862486828.60065440697774.4595264702684228.60191089973414.4595772425855928.60315477664194.4596275082945328.60438616488964.4596772724390828.60560519037324.4597265400130828.6068119777094.4597753159608928.60800665024694.4598236051778228.60918933008384.4598714125106728.6103601380764.4599187427581828.61151919385254.4599656006714828.61266661582754.4600119909546228.61380252121274.4600579182649628.61492702603024.460103387213728.61604024512424.4601484023662528.61714229217344.4601929682427828.61823327970324.4602370893185828.61931331909734.4602807700245528.62038252060944.4603240147476128.6214409933754.4603668278311728.62248884542314.4604092135755128.6235261836874.4604511762382328.62455311401624.4604927200346928.6255697411874.4605338491383928.6265761689144.4605745676813928.62757249986084.4606148797547428.62855883565054.4606547894088728.62953527687694.4606943006539828.63050192311494.4607334174604528.63145887293064.4607721437592428.63240622389214.4608104834422628.63334407257984.4608484403627628.63427251459594.4608860183357228.6351916445754.4609232211382328.63610155619394.4609600525098428.63700234218134.4609965161529628.63789409432764.4610326157332128.63877690349444.4610683548797828.63965085962414.461103737185828.64051605174944.4611387662087128.64137256800244.4611734454705628.6422204956244.4612077784584128.64305992097284.4612417686246928.64389092953444.4612754193874628.64471360593014.4613087341308428.64552803392584.4613417162052828.64633429644094.4613743689279428.64713247555654.4614066955829828.64792265252464.4614386994219428.6487049077764.4614703836639928.64947932092914.4615017514962928.65024597079794.4615328060743328.65100493540024.461563550522228.65175629196614.461593987932928.65250011694554.4616241213687128.65323648601664.4616539538614228.65396547409344.4616834884126528.65468715533354.4617127279941728.6554016031464.4617416755482228.65610889019894.461770333987728.65680908842714.4617987061965828.65750226903924.4618267950301128.65818850252554.4618546033151428.65886785866484.4618821338503828.65954040653214.4619093894066928.66020621450554.4619363727273728.66086535027354.4619630865283828.66151788084174.4619895334986728.66216387253984.4620157163004528.66280339102914.46204163756938\n",
      "\n",
      "hi2\n",
      "\n",
      "edge_lengthsite2\n",
      "\n",
      "hi: 309\n",
      "\n",
      "00000000000000000000000000000000000000000000000000000000000000000000000000000000000000000000000000000000000000000000000000000000000000000000000000000000000000000000000000000000000000000000000000000001.12627879505839e-1301.07264647148406e-1300.30105540441889700.53333368811322200.72267125201039200.88261816298807501.0211723004976301.1434512229944101.2529281744574301.3520688815389601.4426640211512501.526134808677501.6035208761871701.6756642970770601.7432427058289601.8068095001530401.8668224704235701.92366463137801.9776596729409802.0290836161030602.0781737400361502.1251355127742802.1701480383308202.2133683857053502.2549350643536202.2949708404147802.3335850382807702.3708754363963902.406929840217702.4418273961306102.475639695893502.5084317104413702.5402625837415302.571186311139602.601252321791502.6305059810127502.6589890253988602.6867399412399202.7137942948638302.7401850220606802.7659426825208402.7910956842416902.8156704820590202.8396917538025102.863182557033402.8861644688790802.908657711105102.9306812622534602.952252958424702.9733895840497502.9941069538278603.0144199868355203.0343427736940203.0538886375542803.0730701895761703.0918993794818703.1103875417032503.1285454375736703.1463832939643303.1639108387202103.1811373332057903.1980716022401603.2147220616692403.231096743795103.2472033208559903.2630491267400903.2786411770825803.2939861878928203.3090905928389703.3239605593002303.3386020032953603.3530206033777703.3672218135814103.3812108754972103.3949928295448603.4085725255064503.4219546323781903.435143647592603.4481439056572903.4609595862574203.4735947218572703.4860532048394303.4983387942167203.5104551219426203.5224056988534703.5341939202637103.5458230712418503.557296331585903.5686167805190503.5797874011263903.590811084546403.601690633935403.6124287682192603.6230281256444903.633491267143203.6438206795231903.6540187784920803.6640879115282903.6740303606060503.6838483447853203.6935440226711403.7031194947545803.7125768056381403.7219179461553403.7311448553871503.7402594225860403.7492634890069503.7581588496553103.7669472549534403.7756304123319903.7842099877485203.7926876071385803.8010648578026703.8093432897312303.8175244168726103.8256097183459703.8336006396020103.8414985935343403.8493049615441403.8570210945600903.86464831401603.8721879127882203.8796411560948103.8870092823582903.8942935040335503.9014950084028403.9086149583397703.9156544930422203.9226147287380103.9294967593623203.9363016572097703.9430304735610503.949684239286603.9562639654271503.9627706437526503.9692052473012603.9755687308974503.9818620316521603.9880860694445603.9942417473866804.0003299522711304.0063515550036704.012307411019704.018198360687304.0240252296954904.0297888294295104.0354899573332204.0411293972595504.0467079198088104.0522262826554904.0576852308650204.0630854971996604.0684278024140104.0737128555417304.0789413541722804.0841139847197704.0892314226818404.0942943328918104.0993033697622904.1042591775207904.1091623904391504.1140136330549104.1188135203863204.1235626581410704.1282616429183604.1329110624052704.1375114955670704.1420635128320504.1465676762709104.1510245397710604.1554346492056204.1597985425980904.164116750281704.168389795054704.172618192331204.1768024502877904.1809430700061504.1850405456116504.1890953644081804.1931080070095704.1970789474671704.2010086533939204.2048975860859904.2087462006397204.2125549460672204.2163242654074104.2200545958354304.2237463687683404.227400009968804.2310159396456404.234594572552204.2381363180821404.24164158036304.2451107583469804.2485442459003304.2519424318897904.2553057002673504.2586344301530804.2619289959155804.2651897672509604.2684171092598304.2716113825223804.2747729431716904.2779021429659904.2809993293582204.28406484556504.2870990306333804.2901022195065704.2930747430879804.296005143014480.3729174856160244.2947705753630.7414259084091814.29355169278711.100498998991464.292418491175881.450352561354034.291368730736711.791240281191184.290399565782992.123412036724364.289508183230492.447113366437264.288691812063592.762585300580224.287947726965663.070064204107844.287273251644273.369781631401284.286665761865523.661964195406034.286122688173913.946833453146044.285641518282894.22460580893954.285219799128774.495492436093324.284855138588074.759699217370164.284545206863755.017426704118344.284287737550585.268870093619984.284080528393985.51421922394474.283921441759155.753658585386714.283808404829865.987367347408564.283739409557126.215519399906344.283712512379556.438283407545524.283725833736696.655822875884994.283777557397086.868296227999814.283865929622097.07585689033884.283989258185817.278653386585834.284145911270477.476829438352434.284334316255677.670524071586614.28455295841857.85987172765934.284800379560468.045002378159584.28507517657578.226041642512034.285375999973998.403110907603914.285701552370338.576327448688594.286050586952148.745804550905844.286421905933658.911651630832084.286814359006139.073974357539924.28722684179149.232874772711184.287658294305349.388451409410414.288107699437039.54079940917334.288574081448359.690010637124444.289056504498399.836173794877424.289554071195949.979374531018054.2900659211829910.11969554900434.2905912297517510.25721671235534.2911292064966910.39201514702844.2916790940033510.5241653409134.2922401665747810.65373924039124.2928117289962710.78080634393734.2933931153389810.90543379274894.2939836878023711.02768645841214.2945828355955411.1476270276234.2951899738571811.2653160839964.2958045426136811.38081218700054.296426005774911.49417194807434.297053850166911.6054501039714.297687584600911.71469958740234.2983267389776511.82197159504244.298970863426311.92731565296124.2996195274768612.03077967956364.3002723192652512.13241004610254.3009288447699512.23225163484594.3015887270793712.3303478949714.3022516056886912.4267408962624.3029171358253912.52147138068594.3035849878022812.61457881192454.3042548463972312.70610142293144.3049264102583512.79607626159184.3055993913339612.88453923455284.3062735143261412.97152514929594.3069485161670713.05706775451864.3076241455172813.14119977889274.3083001622847913.22395296826184.3089763371644513.30535812134214.3096524511966113.38544512398624.3103282953441913.46424298206844.311003670087613.54177985304784.3116783850366113.61808307626454.3123522585584813.69317920202024.3130251174217313.76709401949474.3136967964547513.83985258354674.3143671382188113.91147924044514.315035992694613.98199765257694.3157032169820214.05143082217354.3163686750123514.11980111409784.3170322372724514.1871302777314.3176937805404714.25343946799834.3183531876324214.3187492655684.3190103471593514.38307969626174.3196651532944714.44645024970614.3203175055499114.50887989726064.3209673085626914.57038710925044.321614471889414.63098987153464.3222589098093514.69070570143724.3229005411357714.74955166306844.3235392890346414.80754438206114.3241750808509614.86470005974744.3248078479419714.92103448679954.3254375255172314.97656305635574.3260640524850515.03130077665434.3266873713051215.08526228319564.3273074278471315.13846185045114.3279241712549115.190913403144.3285375538161115.24263052708874.3291475308369915.29362647969274.3297540605222515.34391419999584.3303571038595115.39350631840294.3309566245084715.44241516604134.3315525886943115.49065278378454.3321449651054315.53823093095274.3327337247950115.58516109370224.3333188410865515.63145449311754.3339002894830315.67712209301734.3344780475796315.72217460748494.3350520949797715.76662250813654.3356224132144915.81047603113494.3361889856648215.8537451839614.3367517974872415.89643975195114.3373108355419415.93856930461034.337866088323815.97985219877824.3381359867413916.02118989494334.3389644539275216.06137814697894.3392326301736216.10231128204244.3397108048814916.14202125913474.3402391890286516.18098892739894.3407734361172516.21940637052764.341305165214516.25732129160664.3418331635009116.29474798438494.3423573076558916.33169494184584.3428775960498316.36816977038944.3433940337541616.40417986272294.3439066252768516.4397324631384.3444153754832916.47483467136844.3449202900175616.5094934447984.3454213753688716.54371560170814.3459186388519616.57750782477554.3464120885730916.61087666453164.3469017333954816.64382854272344.3473875829056616.67636975557244.3478696473812216.70850647693214.348347937759616.74024476134824.3488224656081616.77159054702564.3492932430952816.80254965870494.349760282962516.83312781045154.350223598497816.86333060836074.3506832035096716.89316355318194.3511391123023316.92263204286424.3515913396517316.95174137502674.3520399007824116.98049674935564.3524848113453617.00890326993114.3529260873964817.03696594748564.35336374537617.06468970159764.3537978020885617.09207936282064.3542282746840417.11913967475154.3546551806390717.14587529603974.3550785377392917.17229080233864.3554983640621417.19839068820244.3559146779603717.22417936892854.3563274980461217.24966118234894.3567368431755917.27484039057124.3571427324342617.29972118167144.3575451851226617.32430767133974.3579442207426517.34860390448124.358339858984217.37261385677264.3587321197127217.39634143617684.3591210229567517.41979048441594.3595065888961517.44296477840514.3598888378507917.46586803164784.3602677902695217.48850389559344.360643466719717.51087596095924.36101588787717.5329877590174.3613850745156317.55484276284664.3617510474989517.57644438855554.3621138277703917.59779599646784.3624734363447117.61890089228134.3628298942996517.63976232819574.3631832227678217.66038350401144.3635334429289117.68076756819994.3638805760022817.70091761894774.3642246432396917.72083670517334.3645656659184117.74052782751874.3649036653345717.75999393931644.3652386627967517.77923794753154.3655706796198617.79826271368154.3658997371191517.81707105473254.3662258566046317.83566574397374.3665490593755317.85404951187094.3668693667150917.87222504689854.3671867998855217.89019499635194.3675013801231617.90796196714014.3678131286338617.92552852655954.3681220665884617.94289720304894.3684282151186217.96007048692684.3687315953126417.97705083111134.3690322282115317.99384065182294.369330134805318.0104423292714.3696253360293318.02685820832414.3699178527608718.04309059916484.3702077058157918.05914177792994.3704949159453918.07501398733464.3707795038333518.09070943728424.3710614900928918.10623030547034.3713408952639318.12157873795414.371617739810518.13675684973714.3718920441182118.15176672531794.3721638284918118.16661041923744.3724331131529318.18128995661144.3726999182378818.19580733365174.3729642637955418.21016451817544.3732261697854318.22436345010384.3734856560757918.23840604194884.3737427424417818.25229417929084.3739974485638218.26602972124464.3742497940259418.27961450091584.3744997983142718.2930503258484.374747480815618.30633897845934.37499286081618.31948221647084.3752359574995518.33248177332474.3754767899471118.34533935859484.3757153771351918.35805665838764.3759517379348718.37063533573534.3761858911107718.38307703098094.3764178553201718.39538336215474.3766476491120518.40755592534334.3768752909263418.41959629505184.377100799093118.43150602455714.3773241918318618.44328664625554.3775454872509418.4549396720024.3777647033468718.4664665934444.3779818580038118.47786888234734.3781969689930718.48914799091584.3784100539726718.50030535210554.3786211304869118.51134237993134.3788302159659918.52226046976834.3790373277257318.53306099864754.3792424829672518.54374532554474.3794456987767518.55431479166494.379646992125318.56477072072054.3798463798686518.5751144192044.3800438787471318.58534717665644.3802395053855218.59547026592914.3804332762930118.60548494344214.3806252078631418.61539244943644.3808153163738118.6251940082224.3810036179873118.63489082842134.3811901287503318.64448410320754.381374864594118.65397501053914.3815578413344618.663364713394.3817390746719918.67265435997454.3819185801921618.68184508396934.3820963733655218.69093800473074.382272469547918.69993422750814.3824468839806518.70883484365334.3826196317908118.71764093082654.3827907279914618.72635355319824.3829601874819418.73497376164744.3831280250481718.74350259395654.3832942553629818.7519410750034.383458892986418.76029021694664.3836219523660818.76855101941454.3837834478375618.77672446968244.3839433936247418.78481154285254.3841018038402118.7928132020294.3842586924856918.80073039848954.3844140734524518.80856407185414.3845679605217118.81631515025184.3847203673651218.82398455048314.3848713075452118.83157317818084.3850207945158418.83908192796734.3851688416226718.84651168360974.3853154621036918.85386331817214.3854606690896618.86113769416514.3856044756046618.86833566369334.3857468945665718.87545806859954.3858879387876218.88250574060774.3860276209748818.88947950146234.3861659537308418.8963801630664.3863029495539218.90320852761534.3864386208390318.90996538773294.3865729798781418.91665152659934.386706038860818.92326771808134.3868378098747518.92981472685814.3869683049064718.93629330854674.3870975358417618.94270420982394.3872255144663118.9490481685474.3873522524663118.95532591387244.38747776142918.96153816637224.387602052843318.96768563814954.3877251381003818.97376903295084.3878470284942718.97978904627754.3879677352224718.98574636549544.3880872693865218.99164166994254.3882056419926418.99747563103484.3883228639523419.00324891237074.3884389460829719.00896216983414.3885538991084219.01461605169514.3886677336596819.02021119870984.3887804602754519.02574824421824.3888920894027819.0312278142414.3890026313976619.03665052757424.3891120965256819.0420169958834.389220494962619.04732782379414.3893278367949919.0525836089864.3894341320208319.05778494227864.3895393905501819.06293240772134.3896436222057119.06802658267984.3897468367234219.07306803792094.3898490437531619.07805733769754.3899502528593219.08299503983064.3900504735214119.08788169579154.3901497151346819.09271785078214.3902479870107319.09750404381384.3903452983781619.10224080778614.3904416583831119.1069286695634.3905370760899519.1115681500494.3906315604818219.11615976426384.3907251204613119.12070402141594.39081776485119.12520142497494.390909502394119.12965247274334.3910003417550519.13405765692644.3910902915201119.13841746420254.3911793601979819.14273237579044.3912675562203719.14700286751794.3913548879426319.15122940988694.3914413636443119.15541246814044.3915269915297619.1595525023264.3916117797287419.16364996736014.39169573629719.16770531309054.3917788692168219.17171898435864.3918611863976819.17569142105984.3919426956767419.17962305820434.3920234048195119.18351432597614.3921033215203319.18736564979174.3921824534030419.19117745035754.3922608080214819.19495014372714.3923383928600819.19868414135714.3924152153344119.20237985016234.3924912827917819.20603767257084.3925666025117519.20965800657744.3926411817067219.21324124579674.3927150275224619.21678777951564.3927881470386719.22029799274514.3928605472695319.22377226627074.3929322351642419.22721097670354.3930032176075519.23061449652874.3930735014203319.23398319415574.3931430933600519.23731743396534.3932120001213619.24061757635814.3932802283366219.24388397780094.3933477845763719.24711699087354.3934146753499219.2503169643144.3934809071058319.25348424306444.3935464862324219.25661916831464.3936114190583219.25972207754674.3936757118529319.26279330457824.3937393708269819.2658331796054.3938024021329819.26884202924334.3938648118657719.27182017657134.3939266060629819.27476794117084.3939877907055119.27768563916724.394048371718119.28057358326974.3941083549697119.28343208281124.3941677462740919.28626144378694.3942265513902119.2890619688934.3942847760227519.29183395756494.3943424258225819.29457770601444.3943995063872519.29729350726694.394456023261419.2999816511984.3945119819372719.30264242456984.3945673878551619.30527611106624.3946222464038819.30788299132834.3946765629211819.31046334298924.3947303426942319.31301744070824.3947835909600719.31554555620464.3948363129060419.31804795829154.3948885136702219.32052491290854.3949401983418919.32297668315434.3949913719619319.32540352931914.3950420395232719.32780570891654.3950922059713419.33018347671444.3951418762044519.33253708476664.3951910550742419.3348667824434.3952397473861219.337172816464.3952879578996319.33945543091074.395335691328919.34171486729364.3953829523430419.34395136454264.3954297455665319.34616515905514.3954760755796719.34835648472094.3955219469189419.35052557295024.395567364077419.35267265270084.395612331505119.35479795050634.3956568536094619.35690169050264.3957009347556719.35898409445484.3957445792670619.36104538178364.3957877914254619.36308576959144.3958305754716519.36510547268794.3958729356056619.36710470361574.3959148759871719.36908367267544.3959564007359119.37104258795064.3959975139319719.37298165533224.396038219616219.37490107854254.3960785217905719.37680105915984.3961184244185119.37868179664124.3961579314252819.38054348834684.396197046698319.38238632956224.3962357740875519.38421051352164.3962741174058519.38601623143044.3963120804292519.38780367248714.3963496668973419.38957302390594.3963868805136119.39132447093814.3964237249457819.39305819689364.3964602038261219.39477438316214.3964963207518119.39647320923454.396532079285219.39815485272314.3965674829542219.39981948938254.3966025352526419.40146729312964.396637239640419.40309843606384.3966715995439419.40471308848674.3967056183565119.40631141892194.3967392994384619.40789359413384.3967726461175619.40945977914734.3968056616893419.41101013726614.3968383494173219.41254483009194.3968707125333619.41406401754274.3969027542379519.41556785787064.396934477700519.41705650768054.3969658860596319.41853012194734.3969969824234519.41998885403414.3970277698698819.42143285570894.397058251446919.42286227716244.3970884301728419.42427726702484.3971183090366619.42567797238244.3971478909982619.42706453879474.3971771789886919.42843711031024.3972061759104719.42979582948324.3972348846378519.43114083738954.3972633080170819.43247227364234.3972914488666519.43379027640824.397319309977619.43509498242224.3973468941137219.43638652700354.3973742040118819.43766504407024.3974012423821919.43893066615484.3974280119083819.44018352441874.3974545152479219.44142374866674.3974807550323819.44265146736184.3975067338675719.44386680763954.397532454333919.44506989532154.3975579189865319.44626085493054.3975831303556419.44743980970324.397608090946719.44860688160444.3976328032406619.44976219134074.3976572696941919.45090585837344.3976814927399619.4520380009324.3977054747867919.45315873602754.3977292182199419.45426817946494.3977527254013419.4553664458564.3977759986697519.45645364863254.3977990403410319.45752990005824.3978218527083719.45859531124114.3978444380424819.45964999214624.397866798591819.46069405160724.3978889365827419.46172759733844.3979108542198619.46275073594694.3979325536861319.46376357294384.3979540371430819.46476621275634.3979753067310319.46575875873874.397996364569319.46674131318374.3980172127564219.46771397733414.3980378533702919.46867685139314.3980582884684419.46963003453594.3980785200881619.47057362492024.3980985502467419.4715077196974.3981183809416519.47243241502084.3981380141507319.47334780606084.3981574518323719.47425398701054.3981766959257219.47515105109854.3981957483508719.47603909059844.3982146110089919.47691819683854.3982332857825919.47778846021234.39825177453565\n",
      "\n",
      "hi2\n",
      "\n",
      "site1\n",
      "\n"
     ]
    }
   ],
   "source": [
    "# get tree length\n",
    "nodes_n <- tree$Nnode + length(tree$tip.label)\n",
    "root_node <- setdiff(1:nodes_n, tree$edge[, 2])\n",
    "edge_length <- rep(NA, nodes_n)\n",
    "edge_length[tree$edge[, 2]] <- tree$edge.length\n",
    "\n",
    "cur_result <- list()\n",
    "\n",
    "    for (i in 1:2) {\n",
    "        site_id <- names(site_switch)[i]\n",
    "        # fuse the nodes together\n",
    "        site_switch_fused <- site_switch\n",
    "        dep_sites <- names(site_switch_fused)[-which(names(site_switch_fused) %in% site_id)]\n",
    "        dep_sites <- do.call(cbind, site_switch_fused[dep_sites])\n",
    "        dep_sites <- apply(dep_sites, 2, as.numeric)\n",
    "        data <- cbind(site_switch[[site_id]], edge_length, dep_sites)\n",
    "        # remove cols/rows with too many NA\n",
    "        rm_row <- unlist(apply(data, 1, function(x) {\n",
    "            freq <- sum(is.na(x)) / length(x)\n",
    "            if (freq > 0.1) {\n",
    "                return(T)\n",
    "            } else {\n",
    "                return(F)\n",
    "            }\n",
    "        }))\n",
    "\n",
    "        rm_col <- unlist(apply(data, 2, function(x) {\n",
    "            freq <- sum(is.na(x)) / length(x)\n",
    "            if (freq > 0.1) {\n",
    "                return(T)\n",
    "            } else {\n",
    "                return(F)\n",
    "            }\n",
    "        }))\n",
    "        if (length(rm_row)) {\n",
    "            data <- data[!(rm_row), !(rm_col)]\n",
    "        }\n",
    "        y <- data[, 1]\n",
    "        x <- data[, -1, drop = F]\n",
    "        mysd <- function(y) sqrt(sum((y - mean(y))^2) / length(y))\n",
    "        sx <- scale(x, scale = apply(x, 2, mysd))\n",
    "        start_lambda <- max(abs(colSums(sx * y))) / nrow(x)\n",
    "        # add 100 lambdas before start lambda for warm up\n",
    "        lambdas <- map_dbl(1:100, function(i) start_lambda * (1 / 0.99)^(i - 1))\n",
    "        lambdas <- c(lambdas, map_dbl(1:687, function(i) start_lambda * (0.99)^(i - 1)))\n",
    "        lambdas <- sort(lambdas)\n",
    "        cur_result[[site_id]] <- glmnet(data[, -1], data[, 1], family = \"binomial\", lambda = lambdas)\n",
    "        # select beta via ebic\n",
    "        ebic <- map_dbl(1:length(cur_result[[site_id]]$lambda), function(j) {\n",
    "            lambda <- cur_result[[site_id]]$lambda[j]\n",
    "            cur_ebic <- deviance(cur_result[[site_id]])[j] +\n",
    "                sum(cur_result[[site_id]]$beta[, j] != 0) * log(nrow(data)) +\n",
    "                2 * log(choose(ncol(data[, -1]), sum(cur_result[[site_id]]$beta[, j] != 0)))\n",
    "        })\n",
    "        min.ind <- which.min(ebic)\n",
    "        message(paste0(\"hi: \", min.ind))\n",
    "        beta_col <- cur_result[[site_id]]$beta[, min.ind]\n",
    "        message(cur_result[[site_id]]$beta)\n",
    "        #message(paste0(\"beta_col: \", beta_col))\n",
    "        beta <- names(beta_col)[which(beta_col != 0)]\n",
    "        message(\"hi2\")\n",
    "        message(beta)\n",
    "        cur_result[[site_id]]$selected_beta <- beta\n",
    "    }\n",
    "\n",
    "result <- unlist(result, recursive = F)\n",
    "\n",
    "\n",
    "#saveRDS(result, paste0(\"./analysis/lasso_covar_hbv\", lg$genotype, \".rds\"))"
   ]
  },
  {
   "cell_type": "code",
   "execution_count": 60,
   "metadata": {
    "vscode": {
     "languageId": "r"
    }
   },
   "outputs": [
    {
     "data": {
      "text/html": [
       "<style>\n",
       ".list-inline {list-style: none; margin:0; padding: 0}\n",
       ".list-inline>li {display: inline-block}\n",
       ".list-inline>li:not(:last-child)::after {content: \"\\00b7\"; padding: 0 .5ex}\n",
       "</style>\n",
       "<ol class=list-inline><li>'edge_length'</li><li>'site2'</li></ol>\n"
      ],
      "text/latex": [
       "\\begin{enumerate*}\n",
       "\\item 'edge\\_length'\n",
       "\\item 'site2'\n",
       "\\end{enumerate*}\n"
      ],
      "text/markdown": [
       "1. 'edge_length'\n",
       "2. 'site2'\n",
       "\n",
       "\n"
      ],
      "text/plain": [
       "[1] \"edge_length\" \"site2\"      "
      ]
     },
     "metadata": {},
     "output_type": "display_data"
    }
   ],
   "source": [
    "cur_result$site1$selected_beta"
   ]
  },
  {
   "cell_type": "code",
   "execution_count": 42,
   "metadata": {
    "vscode": {
     "languageId": "r"
    }
   },
   "outputs": [
    {
     "data": {
      "text/html": [
       "<style>\n",
       ".dl-inline {width: auto; margin:0; padding: 0}\n",
       ".dl-inline>dt, .dl-inline>dd {float: none; width: auto; display: inline-block}\n",
       ".dl-inline>dt::after {content: \":\\0020\"; padding-right: .5ex}\n",
       ".dl-inline>dt:not(:first-of-type) {padding-left: .5ex}\n",
       "</style><dl class=dl-inline><dt>edge_length</dt><dd>0</dd><dt>site1</dt><dd>0</dd></dl>\n"
      ],
      "text/latex": [
       "\\begin{description*}\n",
       "\\item[edge\\textbackslash{}\\_length] 0\n",
       "\\item[site1] 0\n",
       "\\end{description*}\n"
      ],
      "text/markdown": [
       "edge_length\n",
       ":   0site1\n",
       ":   0\n",
       "\n"
      ],
      "text/plain": [
       "edge_length       site1 \n",
       "          0           0 "
      ]
     },
     "metadata": {},
     "output_type": "display_data"
    }
   ],
   "source": [
    "cur_result$site2$beta[,1]"
   ]
  },
  {
   "cell_type": "code",
   "execution_count": 23,
   "metadata": {
    "vscode": {
     "languageId": "r"
    }
   },
   "outputs": [
    {
     "data": {
      "text/html": [
       "<style>\n",
       ".list-inline {list-style: none; margin:0; padding: 0}\n",
       ".list-inline>li {display: inline-block}\n",
       ".list-inline>li:not(:last-child)::after {content: \"\\00b7\"; padding: 0 .5ex}\n",
       "</style>\n",
       "<ol class=list-inline><li>'a0'</li><li>'beta'</li><li>'df'</li><li>'dim'</li><li>'lambda'</li><li>'dev.ratio'</li><li>'nulldev'</li><li>'npasses'</li><li>'jerr'</li><li>'offset'</li><li>'classnames'</li><li>'call'</li><li>'nobs'</li><li>'selected_beta'</li></ol>\n"
      ],
      "text/latex": [
       "\\begin{enumerate*}\n",
       "\\item 'a0'\n",
       "\\item 'beta'\n",
       "\\item 'df'\n",
       "\\item 'dim'\n",
       "\\item 'lambda'\n",
       "\\item 'dev.ratio'\n",
       "\\item 'nulldev'\n",
       "\\item 'npasses'\n",
       "\\item 'jerr'\n",
       "\\item 'offset'\n",
       "\\item 'classnames'\n",
       "\\item 'call'\n",
       "\\item 'nobs'\n",
       "\\item 'selected\\_beta'\n",
       "\\end{enumerate*}\n"
      ],
      "text/markdown": [
       "1. 'a0'\n",
       "2. 'beta'\n",
       "3. 'df'\n",
       "4. 'dim'\n",
       "5. 'lambda'\n",
       "6. 'dev.ratio'\n",
       "7. 'nulldev'\n",
       "8. 'npasses'\n",
       "9. 'jerr'\n",
       "10. 'offset'\n",
       "11. 'classnames'\n",
       "12. 'call'\n",
       "13. 'nobs'\n",
       "14. 'selected_beta'\n",
       "\n",
       "\n"
      ],
      "text/plain": [
       " [1] \"a0\"            \"beta\"          \"df\"            \"dim\"          \n",
       " [5] \"lambda\"        \"dev.ratio\"     \"nulldev\"       \"npasses\"      \n",
       " [9] \"jerr\"          \"offset\"        \"classnames\"    \"call\"         \n",
       "[13] \"nobs\"          \"selected_beta\""
      ]
     },
     "metadata": {},
     "output_type": "display_data"
    },
    {
     "name": "stderr",
     "output_type": "stream",
     "text": [
      "   [[ suppressing 787 column names 's0', 's1', 's2' ... ]]\n",
      "\n"
     ]
    },
    {
     "data": {
      "text/plain": [
       "2 x 787 sparse Matrix of class \"dgCMatrix\"\n",
       "                                                                               \n",
       "edge_length . . . . . . . . . . . . . . . . . . . . . . . . . . . . . . . . . .\n",
       "site2       . . . . . . . . . . . . . . . . . . . . . . . . . . . . . . . . . .\n",
       "                                                                               \n",
       "edge_length . . . . . . . . . . . . . . . . . . . . . . . . . . . . . . . . . .\n",
       "site2       . . . . . . . . . . . . . . . . . . . . . . . . . . . . . . . . . .\n",
       "                                                                         \n",
       "edge_length . . . . . . . . . . . . . . . . . . . . . . . . . . . . . . .\n",
       "site2       . . . . . . . . . . . . . . . . . . . . . . . . . . . . . . .\n",
       "                                                                             \n",
       "edge_length .            .            .          .         .        .        \n",
       "site2       2.789472e-13 2.755661e-13 0.07646602 0.1470372 0.212528 0.2735913\n",
       "                                                                       \n",
       "edge_length .         .         .         .         .         .        \n",
       "site2       0.3307618 0.3844824 0.4351246 0.4830029 0.5283859 0.5715047\n",
       "                                                                               \n",
       "edge_length .         .        .         .        .         .         .        \n",
       "site2       0.6125598 0.651726 0.6891569 0.724988 0.7593396 0.7923186 0.8240212\n",
       "                                                                               \n",
       "edge_length .         .         .         .         .         .         .      \n",
       "site2       0.8545333 0.8839328 0.9122899 0.9396685 0.9661267 0.9917177 1.01649\n",
       "                                                                          \n",
       "edge_length .        .        .        .        .        .        .       \n",
       "site2       1.040489 1.063754 1.086325 1.108236 1.129519 1.150205 1.170322\n",
       "                                                                          \n",
       "edge_length .        .        .        .        .        .        .       \n",
       "site2       1.189895 1.208949 1.227508 1.245591 1.263219 1.280411 1.297184\n",
       "                                                                        \n",
       "edge_length .        .       .        .        .        .        .      \n",
       "site2       1.313555 1.32954 1.345152 1.360407 1.375316 1.389893 1.40415\n",
       "                                                                            \n",
       "edge_length .        .        .        .        .        0.4207283 0.8483488\n",
       "site2       1.418096 1.431744 1.445103 1.458182 1.470991 1.4792067 1.4870999\n",
       "                                                                          \n",
       "edge_length 1.259019 1.653639 2.033042 2.398018 2.749314 3.087638 3.413656\n",
       "site2       1.494919 1.502662 1.510328 1.517917 1.525429 1.532863 1.540218\n",
       "                                                                          \n",
       "edge_length 3.727997 4.031254 4.323986 4.606718 4.879945 5.144132 5.399717\n",
       "site2       1.547495 1.554693 1.561812 1.568851 1.575812 1.582693 1.589495\n",
       "                                                                          \n",
       "edge_length 5.647112 5.886705 6.118860 6.343922 6.562214 6.774040 6.979688\n",
       "site2       1.596219 1.602864 1.609432 1.615921 1.622333 1.628669 1.634928\n",
       "                                                                          \n",
       "edge_length 7.179429 7.373518 7.562198 7.745694 7.924224 8.097989 8.267183\n",
       "site2       1.641111 1.647219 1.653253 1.659213 1.665101 1.670915 1.676659\n",
       "                                                                          \n",
       "edge_length 8.431988 8.592577 8.749112 8.901749 9.050635 9.195909 9.337705\n",
       "site2       1.682331 1.687933 1.693466 1.698930 1.704327 1.709656 1.714920\n",
       "                                                                           \n",
       "edge_length 9.476147 9.611357 9.743447 9.872527 9.998699 10.122063 10.24271\n",
       "site2       1.720118 1.725252 1.730321 1.735328 1.740273  1.745157  1.74998\n",
       "                                                                       \n",
       "edge_length 10.360737 10.476222 10.589249 10.699897 10.808240 10.914349\n",
       "site2        1.754743  1.759447  1.764093  1.768681  1.773213  1.777689\n",
       "                                                                      \n",
       "edge_length 11.01829 11.120140 11.219949 11.317782 11.413696 11.507747\n",
       "site2        1.78211  1.786477  1.790789  1.795049  1.799257  1.803413\n",
       "                                                                       \n",
       "edge_length 11.599987 11.690469 11.779241 11.866350 11.951842 12.035760\n",
       "site2        1.807518  1.811573  1.815579  1.819536  1.823445  1.827306\n",
       "                                                                      \n",
       "edge_length 12.118146 12.199041 12.278483 12.35651 12.433159 12.508464\n",
       "site2        1.831121  1.834889  1.838612  1.84229  1.845924  1.849514\n",
       "                                                                       \n",
       "edge_length 12.582459 12.655177 12.726648 12.796903 12.865971 12.933881\n",
       "site2        1.853061  1.856565  1.860027  1.863448  1.866828  1.870168\n",
       "                                                                      \n",
       "edge_length 13.000660 13.06633 13.130930 13.194472 13.256983 13.318487\n",
       "site2        1.873469  1.87673  1.879952  1.883136  1.886283  1.889392\n",
       "                                                                       \n",
       "edge_length 13.379006 13.438563 13.497179 13.554873 13.611666 13.667577\n",
       "site2        1.892465  1.895502  1.898503  1.901468  1.904399  1.907296\n",
       "                                                                      \n",
       "edge_length 13.722625 13.776828 13.830204 13.88277 13.934541 13.985535\n",
       "site2        1.910159  1.912989  1.915786  1.91855  1.921282  1.923982\n",
       "                                                                      \n",
       "edge_length 14.035767 14.08525 14.134007 14.182044 14.229378 14.276022\n",
       "site2        1.926652  1.92929  1.931898  1.934476  1.937024  1.939543\n",
       "                                                                       \n",
       "edge_length 14.321990 14.367295 14.411950 14.455966 14.499356 14.542131\n",
       "site2        1.942033  1.944495  1.946928  1.949334  1.951712  1.954063\n",
       "                                                                      \n",
       "edge_length 14.584303 14.625883 14.666881 14.707309 14.747176 14.78649\n",
       "site2        1.956388  1.958686  1.960957  1.963204  1.965424  1.96762\n",
       "                                                                       \n",
       "edge_length 14.825268 14.863513 14.901236 14.938447 14.975153 15.011365\n",
       "site2        1.969791  1.971937  1.974059  1.976158  1.978232  1.980284\n",
       "                                                                               \n",
       "edge_length 15.047089 15.082443 15.11722 15.151528 15.185385 15.220562 15.25394\n",
       "site2        1.982312  1.984317  1.98630  1.988261  1.990201  1.991866  1.99375\n",
       "                                                                      \n",
       "edge_length 15.286475 15.318555 15.350217 15.381468 15.412314 15.44276\n",
       "site2        1.995628  1.997485  1.999322  2.001138  2.002934  2.00471\n",
       "                                                                       \n",
       "edge_length 15.472820 15.502492 15.531785 15.560705 15.589257 15.617448\n",
       "site2        2.006467  2.008204  2.009922  2.011621  2.013301  2.014963\n",
       "                                                                      \n",
       "edge_length 15.645282 15.672766 15.69990 15.726703 15.753167 15.779301\n",
       "site2        2.016607  2.018232  2.01984  2.021431  2.023003  2.024559\n",
       "                                                                      \n",
       "edge_length 15.805110 15.83060 15.855774 15.880638 15.905195 15.929452\n",
       "site2        2.026098  2.02762  2.029125  2.030614  2.032087  2.033544\n",
       "                                                                               \n",
       "edge_length 15.953411 15.97708 16.00046 16.023551 16.046365 16.068903 16.091168\n",
       "site2        2.034985  2.03641  2.03782  2.039215  2.040594  2.041959  2.043309\n",
       "                                                                       \n",
       "edge_length 16.113166 16.134899 16.156371 16.177587 16.198549 16.219261\n",
       "site2        2.044644  2.045965  2.047272  2.048565  2.049844  2.051109\n",
       "                                                                      \n",
       "edge_length 16.23973 16.259949 16.279932 16.299678 16.319192 16.338475\n",
       "site2        2.05236  2.053598  2.054823  2.056034  2.057233  2.058419\n",
       "                                                                      \n",
       "edge_length 16.357532 16.376365 16.394978 16.413373 16.43155 16.449521\n",
       "site2        2.059592  2.060752  2.061901  2.063037  2.06416  2.065272\n",
       "                                                                       \n",
       "edge_length 16.467280 16.484833 16.502183 16.519332 16.536282 16.553037\n",
       "site2        2.066372  2.067461  2.068537  2.069603  2.070657  2.071699\n",
       "                                                                      \n",
       "edge_length 16.569599 16.585971 16.602155 16.618153 16.63397 16.649602\n",
       "site2        2.072731  2.073752  2.074762  2.075761  2.07675  2.077728\n",
       "                                                                       \n",
       "edge_length 16.665058 16.680338 16.695444 16.710379 16.725144 16.739742\n",
       "site2        2.078696  2.079653  2.080601  2.081539  2.082466  2.083384\n",
       "                                                                               \n",
       "edge_length 16.754174 16.768444 16.78255 16.79650 16.810295 16.823933 16.837418\n",
       "site2        2.084292  2.085191  2.08608  2.08696  2.087831  2.088692  2.089545\n",
       "                                                                       \n",
       "edge_length 16.850751 16.863936 16.876973 16.889864 16.902612 16.915217\n",
       "site2        2.090388  2.091223  2.092048  2.092866  2.093674  2.094474\n",
       "                                                                      \n",
       "edge_length 16.927683 16.94001 16.952200 16.964255 16.976176 16.987966\n",
       "site2        2.095266  2.09605  2.096825  2.097592  2.098351  2.099103\n",
       "                                                                               \n",
       "edge_length 16.999625 17.011156 17.02256 17.03384 17.044991 17.056022 17.066932\n",
       "site2        2.099846  2.100582  2.10131  2.10203  2.102743  2.103449  2.104147\n",
       "                                                                      \n",
       "edge_length 17.077723 17.088395 17.098950 17.109390 17.11972 17.129930\n",
       "site2        2.104838  2.105521  2.106198  2.106868  2.10753  2.108186\n",
       "                                                                      \n",
       "edge_length 17.140031 17.150023 17.159906 17.169682 17.179352 17.18892\n",
       "site2        2.108835  2.109477  2.110112  2.110741  2.111364  2.11198\n",
       "                                                                      \n",
       "edge_length 17.198377 17.207735 17.21699 17.226149 17.235207 17.244167\n",
       "site2        2.112589  2.113193  2.11379  2.114381  2.114965  2.115544\n",
       "                                                                      \n",
       "edge_length 17.253030 17.261798 17.270472 17.27905 17.287540 17.295936\n",
       "site2        2.116117  2.116683  2.117244  2.11780  2.118349  2.118893\n",
       "                                                                      \n",
       "edge_length 17.304243 17.312460 17.320589 17.328631 17.336587 17.34446\n",
       "site2        2.119431  2.119963  2.120491  2.121012  2.121529  2.12204\n",
       "                                                                       \n",
       "edge_length 17.352245 17.359949 17.367570 17.375110 17.382570 17.389950\n",
       "site2        2.122545  2.123046  2.123541  2.124031  2.124517  2.124997\n",
       "                                                                       \n",
       "edge_length 17.397252 17.404476 17.411623 17.418694 17.425691 17.432613\n",
       "site2        2.125472  2.125943  2.126408  2.126869  2.127325  2.127776\n",
       "                                                                       \n",
       "edge_length 17.439461 17.446237 17.452941 17.459575 17.466138 17.472631\n",
       "site2        2.128223  2.128665  2.129103  2.129536  2.129965  2.130389\n",
       "                                                                       \n",
       "edge_length 17.479056 17.485414 17.491704 17.497928 17.504086 17.510179\n",
       "site2        2.130809  2.131225  2.131636  2.132043  2.132447  2.132845\n",
       "                                                                               \n",
       "edge_length 17.51621 17.522174 17.528077 17.533918 17.53970 17.545416 17.551075\n",
       "site2        2.13324  2.133631  2.134018  2.134401  2.13478  2.135155  2.135526\n",
       "                                                                       \n",
       "edge_length 17.556674 17.562215 17.567698 17.573123 17.578491 17.583803\n",
       "site2        2.135893  2.136257  2.136617  2.136973  2.137326  2.137675\n",
       "                                                                       \n",
       "edge_length 17.589060 17.594262 17.599409 17.604503 17.609543 17.614531\n",
       "site2        2.138021  2.138362  2.138701  2.139036  2.139368  2.139696\n",
       "                                                                       \n",
       "edge_length 17.619467 17.624351 17.629184 17.633967 17.638700 17.643384\n",
       "site2        2.140021  2.140342  2.140661  2.140976  2.141288  2.141596\n",
       "                                                                      \n",
       "edge_length 17.648020 17.652607 17.657146 17.66164 17.666083 17.670483\n",
       "site2        2.141902  2.142204  2.142504  2.14280  2.143093  2.143384\n",
       "                                                                       \n",
       "edge_length 17.674836 17.679145 17.683409 17.687628 17.691804 17.695937\n",
       "site2        2.143671  2.143955  2.144237  2.144516  2.144792  2.145065\n",
       "                                                                       \n",
       "edge_length 17.700026 17.704074 17.708079 17.712044 17.715967 17.719849\n",
       "site2        2.145335  2.145602  2.145867  2.146129  2.146389  2.146646\n",
       "                                                                      \n",
       "edge_length 17.72369 17.727494 17.731258 17.734983 17.738669 17.742317\n",
       "site2        2.14690  2.147152  2.147401  2.147647  2.147891  2.148133\n",
       "                                                                       \n",
       "edge_length 17.745927 17.749501 17.753037 17.756537 17.760001 17.763429\n",
       "site2        2.148372  2.148609  2.148843  2.149075  2.149305  2.149532\n",
       "                                                                             \n",
       "edge_length 17.766822 17.77018 17.7735 17.776793 17.780049 17.783271 17.78646\n",
       "site2        2.149757  2.14998  2.1502  2.150418  2.150634  2.150848  2.15106\n",
       "                                                                       \n",
       "edge_length 17.789616 17.792740 17.795832 17.798892 17.801920 17.804918\n",
       "site2        2.151269  2.151477  2.151682  2.151885  2.152086  2.152285\n",
       "                                                                       \n",
       "edge_length 17.807884 17.810821 17.813727 17.816603 17.819450 17.822268\n",
       "site2        2.152483  2.152678  2.152871  2.153062  2.153251  2.153439\n",
       "                                                                       \n",
       "edge_length 17.825057 17.827818 17.830550 17.833254 17.835930 17.838579\n",
       "site2        2.153624  2.153808  2.153989  2.154169  2.154347  2.154524\n",
       "                                                                       \n",
       "edge_length 17.841201 17.843797 17.846365 17.848908 17.851424 17.853915\n",
       "site2        2.154698  2.154871  2.155042  2.155211  2.155379  2.155544\n",
       "                                                                       \n",
       "edge_length 17.856380 17.858820 17.861236 17.863626 17.865992 17.868335\n",
       "site2        2.155709  2.155871  2.156032  2.156191  2.156349  2.156505\n",
       "                                                                       \n",
       "edge_length 17.870653 17.872947 17.875218 17.877466 17.879691 17.881894\n",
       "site2        2.156659  2.156812  2.156964  2.157114  2.157262  2.157409\n",
       "                                                                      \n",
       "edge_length 17.884074 17.886231 17.88837 17.890481 17.892574 17.894645\n",
       "site2        2.157554  2.157698  2.15784  2.157981  2.158121  2.158259\n",
       "                                                                               \n",
       "edge_length 17.896695 17.898724 17.900733 17.902721 17.90469 17.90664 17.908565\n",
       "site2        2.158396  2.158531  2.158666  2.158798  2.15893  2.15906  2.159188\n",
       "                                                                      \n",
       "edge_length 17.910474 17.912363 17.914233 17.91608 17.917916 17.919729\n",
       "site2        2.159316  2.159442  2.159567  2.15969  2.159813  2.159934\n",
       "                                                                      \n",
       "edge_length 17.921525 17.923301 17.92506 17.926801 17.928525 17.930231\n",
       "site2        2.160054  2.160173  2.16029  2.160406  2.160522  2.160636\n",
       "                                                                               \n",
       "edge_length 17.931919 17.93359 17.935245 17.93688 17.938504 17.940109 17.941697\n",
       "site2        2.160748  2.16086  2.160971  2.16108  2.161189  2.161296  2.161402\n",
       "                                                                       \n",
       "edge_length 17.943269 17.944826 17.946366 17.947891 17.949401 17.950895\n",
       "site2        2.161507  2.161611  2.161714  2.161816  2.161917  2.162017\n",
       "                                                                       \n",
       "edge_length 17.952374 17.953838 17.955287 17.956722 17.958142 17.959548\n",
       "site2        2.162116  2.162214  2.162311  2.162407  2.162502  2.162596\n",
       "                                                                       \n",
       "edge_length 17.960940 17.962317 17.963680 17.965030 17.966366 17.967689\n",
       "site2        2.162689  2.162782  2.162873  2.162963  2.163053  2.163141\n",
       "                                                                       \n",
       "edge_length 17.968998 17.970294 17.971577 17.972847 17.974104 17.975348\n",
       "site2        2.163229  2.163316  2.163402  2.163487  2.163571  2.163654\n",
       "                                                                       \n",
       "edge_length 17.976580 17.977799 17.979006 17.980201 17.981383 17.982554\n",
       "site2        2.163737  2.163818  2.163899  2.163979  2.164059  2.164137\n",
       "                                                                       \n",
       "edge_length 17.983713 17.984860 17.985996 17.987120 17.988233 17.989335\n",
       "site2        2.164215  2.164291  2.164368  2.164443  2.164517  2.164591\n",
       "                                                                       \n",
       "edge_length 17.990425 17.991505 17.992573 17.993631 17.994678 17.995715\n",
       "site2        2.164664  2.164737  2.164808  2.164879  2.164949  2.165019\n",
       "                                                                      \n",
       "edge_length 17.996741 17.997757 17.998762 17.99976 18.000743 18.001718\n",
       "site2        2.165088  2.165156  2.165223  2.16529  2.165356  2.165422\n",
       "                                                                               \n",
       "edge_length 18.002684 18.00364 18.004586 18.005523 18.006450 18.00737 18.008276\n",
       "site2        2.165486  2.16555  2.165614  2.165677  2.165739  2.16580  2.165861\n",
       "                                                                       \n",
       "edge_length 18.009176 18.010066 18.010948 18.011820 18.012684 18.013539\n",
       "site2        2.165922  2.165981  2.166041  2.166099  2.166157  2.166214\n",
       "                                                                       \n",
       "edge_length 18.014386 18.015223 18.016053 18.016874 18.017687 18.018492\n",
       "site2        2.166271  2.166327  2.166383  2.166438  2.166493  2.166547\n",
       "                                                                              \n",
       "edge_length 18.01929 18.020077 18.020857 18.021630 18.022395 18.02315 18.02390\n",
       "site2        2.16660  2.166653  2.166706  2.166757  2.166809  2.16686  2.16691\n",
       "                                                                      \n",
       "edge_length 18.02464 18.025379 18.026106 18.026826 18.027539 18.028244\n",
       "site2        2.16696  2.167009  2.167058  2.167106  2.167154  2.167202\n",
       "                                                                       \n",
       "edge_length 18.028943 18.029634 18.030319 18.030996 18.031667 18.032331\n",
       "site2        2.167248  2.167295  2.167341  2.167386  2.167431  2.167476\n",
       "                                                                               \n",
       "edge_length 18.03299 18.033639 18.034283 18.03492 18.035552 18.036177 18.036796\n",
       "site2        2.16752  2.167564  2.167607  2.16765  2.167692  2.167734  2.167776\n",
       "                                                                       \n",
       "edge_length 18.037408 18.038014 18.038615 18.039209 18.039797 18.040379\n",
       "site2        2.167817  2.167858  2.167898  2.167938  2.167977  2.168017\n",
       "                                                                       \n",
       "edge_length 18.040956 18.041526 18.042091 18.042650 18.043204 18.043752\n",
       "site2        2.168055  2.168094  2.168132  2.168169  2.168206  2.168243\n",
       "                                                                      \n",
       "edge_length 18.04429 18.044832 18.045363 18.045890 18.046411 18.046927\n",
       "site2        2.16828  2.168316  2.168351  2.168387  2.168422  2.168456\n",
       "                                                                       \n",
       "edge_length 18.047437 18.047943 18.048443 18.048939 18.049429 18.049914\n",
       "site2        2.168491  2.168525  2.168558  2.168592  2.168625  2.168657\n",
       "                                                                      \n",
       "edge_length 18.05040 18.050871 18.051342 18.051808 18.052270 18.052727\n",
       "site2        2.16869  2.168722  2.168753  2.168785  2.168816  2.168846\n",
       "                                                                       \n",
       "edge_length 18.053179 18.053627 18.054071 18.054509 18.054944 18.055374\n",
       "site2        2.168877  2.168907  2.168937  2.168966  2.168995  2.169024\n",
       "                                                                       \n",
       "edge_length 18.055800 18.056221 18.056639 18.057052 18.057461 18.057866\n",
       "site2        2.169053  2.169081  2.169109  2.169137  2.169165  2.169192\n",
       "                                                                      \n",
       "edge_length 18.058267 18.058663 18.059056 18.059445 18.059830 18.06021\n",
       "site2        2.169219  2.169245  2.169272  2.169298  2.169324  2.16935\n",
       "                                                                               \n",
       "edge_length 18.060589 18.06096 18.061332 18.06170 18.062060 18.062419 18.062774\n",
       "site2        2.169375  2.16940  2.169425  2.16945  2.169474  2.169498  2.169522\n",
       "                                                                      \n",
       "edge_length 18.063126 18.063474 18.063818 18.064160 18.064497 18.06483\n",
       "site2        2.169546  2.169569  2.169592  2.169615  2.169638  2.16966\n",
       "                                                                       \n",
       "edge_length 18.065162 18.065490 18.065814 18.066136 18.066453 18.066768\n",
       "site2        2.169683  2.169705  2.169726  2.169748  2.169769  2.169791\n",
       "                                                                       \n",
       "edge_length 18.067080 18.067388 18.067693 18.067996 18.068295 18.068591\n",
       "site2        2.169812  2.169832  2.169853  2.169873  2.169893  2.169913\n",
       "                                                                      \n",
       "edge_length 18.068884 18.069175 18.069462 18.069747 18.07003 18.070307\n",
       "site2        2.169933  2.169952  2.169972  2.169991  2.17001  2.170029\n",
       "                                                                      \n",
       "edge_length 18.070583 18.070856 18.071127 18.071395 18.07166 18.071923\n",
       "site2        2.170047  2.170066  2.170084  2.170102  2.17012  2.170137\n",
       "                                                                      \n",
       "edge_length 18.072182 18.072440 18.072694 18.072946 18.073196 18.07344\n",
       "site2        2.170155  2.170172  2.170189  2.170206  2.170223  2.17024\n",
       "                                                                      \n",
       "edge_length 18.073688 18.073930 18.074170 18.074407 18.07464 18.074875\n",
       "site2        2.170256  2.170272  2.170289  2.170304  2.17032  2.170336\n",
       "                                                                       \n",
       "edge_length 18.075105 18.075333 18.075559 18.075782 18.076003 18.076222\n",
       "site2        2.170351  2.170367  2.170382  2.170397  2.170412  2.170427\n",
       "                                                                      \n",
       "edge_length 18.076439 18.076654 18.07687 18.077076 18.077285 18.077491\n",
       "site2        2.170441  2.170456  2.17047  2.170484  2.170498  2.170512\n",
       "                                                                       \n",
       "edge_length 18.077695 18.077897 18.078097 18.078295 18.078491 18.078685\n",
       "site2        2.170526  2.170539  2.170553  2.170566  2.170579  2.170592\n",
       "                                                                       \n",
       "edge_length 18.078877 18.079067 18.079255 18.079442 18.079626 18.079809\n",
       "site2        2.170605  2.170618  2.170631  2.170643  2.170656  2.170668\n",
       "                                                                      \n",
       "edge_length 18.07999 18.080169 18.080346 18.080522 18.080695 18.080867\n",
       "site2        2.17068  2.170692  2.170704  2.170716  2.170728  2.170739\n",
       "                                                                       \n",
       "edge_length 18.081038 18.081206 18.081373 18.081538 18.081702 18.081864\n",
       "site2        2.170751  2.170762  2.170773  2.170784  2.170795  2.170806\n",
       "                                                                       \n",
       "edge_length 18.082024 18.082183 18.082340 18.082495 18.082649 18.082802\n",
       "site2        2.170817  2.170828  2.170838  2.170849  2.170859  2.170869\n",
       "                                               \n",
       "edge_length 18.08295 18.08310 18.08325 18.08340\n",
       "site2        2.17088  2.17089  2.17090  2.17091"
      ]
     },
     "metadata": {},
     "output_type": "display_data"
    },
    {
     "data": {
      "text/plain": [
       "NULL"
      ]
     },
     "metadata": {},
     "output_type": "display_data"
    }
   ],
   "source": [
    "names(result$site1)\n",
    "result$site1$beta\n",
    "result$selected_beta"
   ]
  },
  {
   "cell_type": "code",
   "execution_count": 69,
   "metadata": {
    "vscode": {
     "languageId": "r"
    }
   },
   "outputs": [
    {
     "data": {
      "text/html": [
       "0"
      ],
      "text/latex": [
       "0"
      ],
      "text/markdown": [
       "0"
      ],
      "text/plain": [
       "[1] 0"
      ]
     },
     "metadata": {},
     "output_type": "display_data"
    },
    {
     "ename": "ERROR",
     "evalue": "Error in choose(ncol(data[, -1]), sum(result$site1$beta[, j] != 0)): non-numeric argument to mathematical function\n",
     "output_type": "error",
     "traceback": [
      "Error in choose(ncol(data[, -1]), sum(result$site1$beta[, j] != 0)): non-numeric argument to mathematical function\nTraceback:\n",
      "1. map_dbl(1:length(result$site1$lambda), function(j) {\n .     lambda <- result$site1$lambda[j]\n .     cur_ebic <- deviance(result$site1)[j] + sum(result$site1$beta[, \n .         j] != 0) * log(nrow(data)) + 2 * log(choose(ncol(data[, \n .         -1]), sum(result$site1$beta[, j] != 0)))\n . })",
      "2. .f(.x[[i]], ...)"
     ]
    }
   ],
   "source": [
    "i <- 1\n",
    "result$site1$beta[1]\n",
    " ebic <- map_dbl(1:length(result$site1$lambda), function(j) {\n",
    "            lambda <- result$site1$lambda[j]\n",
    "            cur_ebic <- deviance(result$site1)[j] +\n",
    "                sum(result$site1$beta[, j] != 0) * log(nrow(data)) +\n",
    "                2 * log(choose(ncol(data[, -1]), sum(result$site1$beta[, j] != 0)))\n",
    "        })"
   ]
  },
  {
   "cell_type": "code",
   "execution_count": 60,
   "metadata": {
    "vscode": {
     "languageId": "r"
    }
   },
   "outputs": [
    {
     "data": {
      "text/html": [
       "<style>\n",
       ".list-inline {list-style: none; margin:0; padding: 0}\n",
       ".list-inline>li {display: inline-block}\n",
       ".list-inline>li:not(:last-child)::after {content: \"\\00b7\"; padding: 0 .5ex}\n",
       "</style>\n",
       "<ol class=list-inline><li>'a0'</li><li>'beta'</li><li>'df'</li><li>'dim'</li><li>'lambda'</li><li>'dev.ratio'</li><li>'nulldev'</li><li>'npasses'</li><li>'jerr'</li><li>'offset'</li><li>'classnames'</li><li>'call'</li><li>'nobs'</li><li>'selected_beta'</li></ol>\n"
      ],
      "text/latex": [
       "\\begin{enumerate*}\n",
       "\\item 'a0'\n",
       "\\item 'beta'\n",
       "\\item 'df'\n",
       "\\item 'dim'\n",
       "\\item 'lambda'\n",
       "\\item 'dev.ratio'\n",
       "\\item 'nulldev'\n",
       "\\item 'npasses'\n",
       "\\item 'jerr'\n",
       "\\item 'offset'\n",
       "\\item 'classnames'\n",
       "\\item 'call'\n",
       "\\item 'nobs'\n",
       "\\item 'selected\\_beta'\n",
       "\\end{enumerate*}\n"
      ],
      "text/markdown": [
       "1. 'a0'\n",
       "2. 'beta'\n",
       "3. 'df'\n",
       "4. 'dim'\n",
       "5. 'lambda'\n",
       "6. 'dev.ratio'\n",
       "7. 'nulldev'\n",
       "8. 'npasses'\n",
       "9. 'jerr'\n",
       "10. 'offset'\n",
       "11. 'classnames'\n",
       "12. 'call'\n",
       "13. 'nobs'\n",
       "14. 'selected_beta'\n",
       "\n",
       "\n"
      ],
      "text/plain": [
       " [1] \"a0\"            \"beta\"          \"df\"            \"dim\"          \n",
       " [5] \"lambda\"        \"dev.ratio\"     \"nulldev\"       \"npasses\"      \n",
       " [9] \"jerr\"          \"offset\"        \"classnames\"    \"call\"         \n",
       "[13] \"nobs\"          \"selected_beta\""
      ]
     },
     "metadata": {},
     "output_type": "display_data"
    }
   ],
   "source": [
    "names(result$site1)"
   ]
  },
  {
   "cell_type": "code",
   "execution_count": null,
   "metadata": {
    "vscode": {
     "languageId": "r"
    }
   },
   "outputs": [],
   "source": []
  }
 ],
 "metadata": {
  "kernelspec": {
   "display_name": "R",
   "language": "R",
   "name": "ir"
  },
  "language_info": {
   "codemirror_mode": "r",
   "file_extension": ".r",
   "mimetype": "text/x-r-source",
   "name": "R",
   "pygments_lexer": "r",
   "version": "4.1.2"
  },
  "orig_nbformat": 4
 },
 "nbformat": 4,
 "nbformat_minor": 2
}
