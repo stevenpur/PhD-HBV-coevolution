{
 "cells": [
  {
   "cell_type": "code",
   "execution_count": 1,
   "metadata": {},
   "outputs": [],
   "source": [
    "library(ape)"
   ]
  },
  {
   "cell_type": "code",
   "execution_count": 2,
   "metadata": {},
   "outputs": [],
   "source": [
    "seqs = read.dna('~/hbv_covar3/QC/step4_translate_gene/HBV_ALLgeno_phyloFilter_ref_mafft.fasta', format = 'fasta', as.character = T)\n"
   ]
  },
  {
   "cell_type": "code",
   "execution_count": 17,
   "metadata": {},
   "outputs": [],
   "source": [
    "genotypes = unlist(lapply(rownames(seqs)[-grep('ref', rownames(seqs))], function(x) strsplit(x, '\\\\_')[[1]][2]))\n",
    "ref_A_ind = grep('ref.*_A', rownames(seqs))\n",
    "ref_B_ind = grep('ref.*_B', rownames(seqs))"
   ]
  },
  {
   "cell_type": "code",
   "execution_count": 18,
   "metadata": {},
   "outputs": [],
   "source": [
    "for (genotype in names(table(genotypes))){\n",
    "    outgroup_ind = ref_A_ind\n",
    "    if (genotype == 'A'){\n",
    "        outgroup_ind = ref_B_ind\n",
    "    }\n",
    "    geno_seqs = seqs[c(which(genotypes == genotype), outgroup_ind),]\n",
    "    write.dna(geno_seqs, paste0('~/hbv_covar3/analysis/HBV', genotype, '_withOutGroup.phylip'), format = 'interleaved', colsep = '')\n",
    "}"
   ]
  },
  {
   "cell_type": "code",
   "execution_count": null,
   "metadata": {},
   "outputs": [],
   "source": []
  }
 ],
 "metadata": {
  "kernelspec": {
   "display_name": "R",
   "language": "R",
   "name": "ir"
  },
  "language_info": {
   "codemirror_mode": "r",
   "file_extension": ".r",
   "mimetype": "text/x-r-source",
   "name": "R",
   "pygments_lexer": "r",
   "version": "3.6.2"
  }
 },
 "nbformat": 4,
 "nbformat_minor": 2
}
