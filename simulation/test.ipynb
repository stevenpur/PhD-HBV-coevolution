{
 "cells": [
  {
   "cell_type": "code",
   "execution_count": 3,
   "metadata": {
    "vscode": {
     "languageId": "r"
    }
   },
   "outputs": [],
   "source": [
    "bases <- c(\"x\", \"y\")\n",
    "coev_pair <- c(\"yy\", \"xx\")"
   ]
  },
  {
   "cell_type": "code",
   "execution_count": 6,
   "metadata": {
    "vscode": {
     "languageId": "r"
    }
   },
   "outputs": [
    {
     "name": "stdout",
     "output_type": "stream",
     "text": [
      "   x  y\n",
      "x -u  u\n",
      "y  u -u\n"
     ]
    }
   ],
   "source": [
    "Q <- matrix(c('-u', 'u', 'u', '-u'), nrow = 2, ncol = 2)\n",
    "colnames(Q) <- bases\n",
    "rownames(Q) <- bases\n",
    "Q_df <- as.data.frame(Q)\n",
    "print(Q_df)"
   ]
  },
  {
   "cell_type": "code",
   "execution_count": 7,
   "metadata": {
    "vscode": {
     "languageId": "r"
    }
   },
   "outputs": [],
   "source": [
    "# three site coevolution model\n",
    "coev_factor <- 'f'\n",
    "Qco3 <- matrix(nrow = 8, ncol = 8)\n",
    "base_tri <- expand.grid(bases, bases, bases)\n",
    "base_tri <- paste0(base_tri[, 1], base_tri[, 2], base_tri[, 3])\n",
    "colnames(Qco3) <- base_tri\n",
    "rownames(Qco3) <- base_tri\n",
    "siteAB_coev_pair <- c(\"yy\", \"xx\")\n",
    "siteBC_coev_pair <- c(\"yy\", \"xx\")\n",
    "for (i in 1:nrow(Qco3)) {\n",
    "    for (j in 1:ncol(Qco3)) {\n",
    "        # skip if there is no change\n",
    "        if (i == j) {\n",
    "            next\n",
    "        }\n",
    "        siteA_change <- c(strsplit(base_tri[i], \"\")[[1]][1], strsplit(base_tri[j], \"\")[[1]][1])\n",
    "        siteB_change <- c(strsplit(base_tri[i], \"\")[[1]][2], strsplit(base_tri[j], \"\")[[1]][2])\n",
    "        siteC_change <- c(strsplit(base_tri[i], \"\")[[1]][3], strsplit(base_tri[j], \"\")[[1]][3])\n",
    "\n",
    "        siteA_is_change <- as.numeric(siteA_change[1] != siteA_change[2])\n",
    "        siteB_is_change <- as.numeric(siteB_change[1] != siteB_change[2])\n",
    "        siteC_is_change <- as.numeric(siteC_change[1] != siteC_change[2])\n",
    "        # treat changes in >2 sites simultaneously as impossible to happen\n",
    "        if (siteA_is_change + siteB_is_change + siteC_is_change >= 2) {\n",
    "            Qco3[i, j] <- '0'\n",
    "            next\n",
    "        }\n",
    "        # consider siteA change, this site is changing in independantly from other sites\n",
    "        if (siteA_is_change == 1) {\n",
    "            Qco3[i, j] <- Q[siteA_change[1], siteA_change[2]]\n",
    "            next\n",
    "        }\n",
    "        # consider siteB change, this site is dependant on the second site\n",
    "        if (siteB_is_change == 1) {\n",
    "            # first set the change as if siteB is changing independantly\n",
    "            Qco3[i, j] <- Q[siteB_change[1], siteB_change[2]]\n",
    "            # get the bases that siteA and B are changing from\n",
    "            baseAB <- paste0(siteA_change[1], siteB_change[1])\n",
    "            if (baseAB %in% siteAB_coev_pair) {\n",
    "                Qco3[i, j] <- paste0(Qco3[i, j], '/', coev_factor)\n",
    "            }\n",
    "            # get the bases that siteA and B are changing into\n",
    "            baseAB <- paste0(siteA_change[2], siteB_change[2])\n",
    "            if (baseAB %in% siteAB_coev_pair) {\n",
    "                Qco3[i, j] <- paste0(Qco3[i, j], coev_factor)\n",
    "            }\n",
    "            next\n",
    "        }\n",
    "        # consider siteC change, this site is dependant on the second site\n",
    "        if (siteC_is_change == 1) {\n",
    "            # first set the change as if siteC is changing independantly\n",
    "            Qco3[i, j] <- Q[siteC_change[1], siteC_change[2]]\n",
    "            # get the bases that siteB and C are changing from\n",
    "            baseBC <- paste0(siteB_change[1], siteC_change[1])\n",
    "            if (baseBC %in% siteBC_coev_pair) {\n",
    "                Qco3[i, j] <- paste0(Qco3[i, j], '/', coev_factor)\n",
    "            }\n",
    "            # get the bases that siteB and C are changing into\n",
    "            baseBC <- paste0(siteB_change[2], siteC_change[2])\n",
    "            if (baseBC %in% siteBC_coev_pair) {\n",
    "                Qco3[i, j] <- paste0(Qco3[i, j],  coev_factor)\n",
    "            }\n",
    "            next\n",
    "        }\n",
    "    }\n",
    "}"
   ]
  },
  {
   "cell_type": "code",
   "execution_count": 8,
   "metadata": {
    "vscode": {
     "languageId": "r"
    }
   },
   "outputs": [
    {
     "data": {
      "text/html": [
       "<table class=\"dataframe\">\n",
       "<caption>A matrix: 8 x 8 of type chr</caption>\n",
       "<thead>\n",
       "\t<tr><th></th><th scope=col>xxx</th><th scope=col>yxx</th><th scope=col>xyx</th><th scope=col>yyx</th><th scope=col>xxy</th><th scope=col>yxy</th><th scope=col>xyy</th><th scope=col>yyy</th></tr>\n",
       "</thead>\n",
       "<tbody>\n",
       "\t<tr><th scope=row>xxx</th><td>NA</td><td>u  </td><td>u/f</td><td>0  </td><td>u/f</td><td>0  </td><td>0  </td><td>0 </td></tr>\n",
       "\t<tr><th scope=row>yxx</th><td>u </td><td>NA </td><td>0  </td><td>uf </td><td>0  </td><td>u/f</td><td>0  </td><td>0 </td></tr>\n",
       "\t<tr><th scope=row>xyx</th><td>uf</td><td>0  </td><td>NA </td><td>u  </td><td>0  </td><td>0  </td><td>uf </td><td>0 </td></tr>\n",
       "\t<tr><th scope=row>yyx</th><td>0 </td><td>u/f</td><td>u  </td><td>NA </td><td>0  </td><td>0  </td><td>0  </td><td>uf</td></tr>\n",
       "\t<tr><th scope=row>xxy</th><td>uf</td><td>0  </td><td>0  </td><td>0  </td><td>NA </td><td>u  </td><td>u/f</td><td>0 </td></tr>\n",
       "\t<tr><th scope=row>yxy</th><td>0 </td><td>uf </td><td>0  </td><td>0  </td><td>u  </td><td>NA </td><td>0  </td><td>uf</td></tr>\n",
       "\t<tr><th scope=row>xyy</th><td>0 </td><td>0  </td><td>u/f</td><td>0  </td><td>uf </td><td>0  </td><td>NA </td><td>u </td></tr>\n",
       "\t<tr><th scope=row>yyy</th><td>0 </td><td>0  </td><td>0  </td><td>u/f</td><td>0  </td><td>u/f</td><td>u  </td><td>NA</td></tr>\n",
       "</tbody>\n",
       "</table>\n"
      ],
      "text/latex": [
       "A matrix: 8 x 8 of type chr\n",
       "\\begin{tabular}{r|llllllll}\n",
       "  & xxx & yxx & xyx & yyx & xxy & yxy & xyy & yyy\\\\\n",
       "\\hline\n",
       "\txxx & NA & u   & u/f & 0   & u/f & 0   & 0   & 0 \\\\\n",
       "\tyxx & u  & NA  & 0   & uf  & 0   & u/f & 0   & 0 \\\\\n",
       "\txyx & uf & 0   & NA  & u   & 0   & 0   & uf  & 0 \\\\\n",
       "\tyyx & 0  & u/f & u   & NA  & 0   & 0   & 0   & uf\\\\\n",
       "\txxy & uf & 0   & 0   & 0   & NA  & u   & u/f & 0 \\\\\n",
       "\tyxy & 0  & uf  & 0   & 0   & u   & NA  & 0   & uf\\\\\n",
       "\txyy & 0  & 0   & u/f & 0   & uf  & 0   & NA  & u \\\\\n",
       "\tyyy & 0  & 0   & 0   & u/f & 0   & u/f & u   & NA\\\\\n",
       "\\end{tabular}\n"
      ],
      "text/markdown": [
       "\n",
       "A matrix: 8 x 8 of type chr\n",
       "\n",
       "| <!--/--> | xxx | yxx | xyx | yyx | xxy | yxy | xyy | yyy |\n",
       "|---|---|---|---|---|---|---|---|---|\n",
       "| xxx | NA | u   | u/f | 0   | u/f | 0   | 0   | 0  |\n",
       "| yxx | u  | NA  | 0   | uf  | 0   | u/f | 0   | 0  |\n",
       "| xyx | uf | 0   | NA  | u   | 0   | 0   | uf  | 0  |\n",
       "| yyx | 0  | u/f | u   | NA  | 0   | 0   | 0   | uf |\n",
       "| xxy | uf | 0   | 0   | 0   | NA  | u   | u/f | 0  |\n",
       "| yxy | 0  | uf  | 0   | 0   | u   | NA  | 0   | uf |\n",
       "| xyy | 0  | 0   | u/f | 0   | uf  | 0   | NA  | u  |\n",
       "| yyy | 0  | 0   | 0   | u/f | 0   | u/f | u   | NA |\n",
       "\n"
      ],
      "text/plain": [
       "    xxx yxx xyx yyx xxy yxy xyy yyy\n",
       "xxx NA  u   u/f 0   u/f 0   0   0  \n",
       "yxx u   NA  0   uf  0   u/f 0   0  \n",
       "xyx uf  0   NA  u   0   0   uf  0  \n",
       "yyx 0   u/f u   NA  0   0   0   uf \n",
       "xxy uf  0   0   0   NA  u   u/f 0  \n",
       "yxy 0   uf  0   0   u   NA  0   uf \n",
       "xyy 0   0   u/f 0   uf  0   NA  u  \n",
       "yyy 0   0   0   u/f 0   u/f u   NA "
      ]
     },
     "metadata": {},
     "output_type": "display_data"
    }
   ],
   "source": [
    "Qco3"
   ]
  },
  {
   "cell_type": "code",
   "execution_count": null,
   "metadata": {
    "vscode": {
     "languageId": "r"
    }
   },
   "outputs": [],
   "source": []
  }
 ],
 "metadata": {
  "kernelspec": {
   "display_name": "R",
   "language": "R",
   "name": "ir"
  },
  "language_info": {
   "codemirror_mode": "r",
   "file_extension": ".r",
   "mimetype": "text/x-r-source",
   "name": "R",
   "pygments_lexer": "r",
   "version": "4.3.1"
  }
 },
 "nbformat": 4,
 "nbformat_minor": 2
}
