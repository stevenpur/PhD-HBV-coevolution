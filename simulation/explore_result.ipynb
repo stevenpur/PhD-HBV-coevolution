{
 "cells": [
  {
   "cell_type": "code",
   "execution_count": 27,
   "metadata": {
    "vscode": {
     "languageId": "r"
    }
   },
   "outputs": [],
   "source": [
    "library(tidyverse)\n",
    "\n",
    "setwd(\"~/hbv_covar3/analysis/sim_seq/\")\n",
    "\n",
    "# result files\n",
    "result_files <- list.files(\"./\", pattern = \"simresult.*test\")\n"
   ]
  },
  {
   "cell_type": "code",
   "execution_count": 31,
   "metadata": {
    "vscode": {
     "languageId": "r"
    }
   },
   "outputs": [
    {
     "name": "stdout",
     "output_type": "stream",
     "text": [
      "[1] \"simresult_l100n1000f100_test1.txt\"\n",
      "[1] \"simresult_l100n1000f100_test10.txt\"\n",
      "[1] \"simresult_l100n1000f100_test100.txt\"\n",
      "[1] \"simresult_l100n1000f100_test11.txt\"\n",
      "[1] \"simresult_l100n1000f100_test12.txt\"\n",
      "[1] \"simresult_l100n1000f100_test13.txt\"\n",
      "[1] \"simresult_l100n1000f100_test14.txt\"\n",
      "[1] \"simresult_l100n1000f100_test15.txt\"\n",
      "[1] \"simresult_l100n1000f100_test16.txt\"\n",
      "[1] \"simresult_l100n1000f100_test17.txt\"\n",
      "[1] \"simresult_l100n1000f100_test18.txt\"\n",
      "[1] \"simresult_l100n1000f100_test19.txt\"\n",
      "[1] \"simresult_l100n1000f100_test2.txt\"\n",
      "[1] \"simresult_l100n1000f100_test20.txt\"\n",
      "[1] \"simresult_l100n1000f100_test21.txt\"\n",
      "[1] \"simresult_l100n1000f100_test22.txt\"\n",
      "[1] \"simresult_l100n1000f100_test23.txt\"\n",
      "[1] \"simresult_l100n1000f100_test24.txt\"\n",
      "[1] \"simresult_l100n1000f100_test25.txt\"\n",
      "[1] \"simresult_l100n1000f100_test26.txt\"\n",
      "[1] \"simresult_l100n1000f100_test27.txt\"\n",
      "[1] \"simresult_l100n1000f100_test28.txt\"\n",
      "[1] \"simresult_l100n1000f100_test29.txt\"\n",
      "[1] \"simresult_l100n1000f100_test3.txt\"\n",
      "[1] \"simresult_l100n1000f100_test30.txt\"\n",
      "[1] \"simresult_l100n1000f100_test31.txt\"\n",
      "[1] \"simresult_l100n1000f100_test32.txt\"\n",
      "[1] \"simresult_l100n1000f100_test33.txt\"\n",
      "[1] \"simresult_l100n1000f100_test34.txt\"\n",
      "[1] \"simresult_l100n1000f100_test35.txt\"\n",
      "[1] \"simresult_l100n1000f100_test36.txt\"\n",
      "[1] \"simresult_l100n1000f100_test37.txt\"\n",
      "[1] \"simresult_l100n1000f100_test38.txt\"\n",
      "[1] \"simresult_l100n1000f100_test39.txt\"\n",
      "[1] \"simresult_l100n1000f100_test4.txt\"\n",
      "[1] \"simresult_l100n1000f100_test40.txt\"\n",
      "[1] \"simresult_l100n1000f100_test41.txt\"\n",
      "[1] \"simresult_l100n1000f100_test42.txt\"\n",
      "[1] \"simresult_l100n1000f100_test43.txt\"\n",
      "[1] \"simresult_l100n1000f100_test44.txt\"\n",
      "[1] \"simresult_l100n1000f100_test45.txt\"\n",
      "[1] \"simresult_l100n1000f100_test46.txt\"\n",
      "[1] \"simresult_l100n1000f100_test47.txt\"\n",
      "[1] \"simresult_l100n1000f100_test48.txt\"\n",
      "[1] \"simresult_l100n1000f100_test49.txt\"\n",
      "[1] \"simresult_l100n1000f100_test5.txt\"\n",
      "[1] \"simresult_l100n1000f100_test50.txt\"\n",
      "[1] \"simresult_l100n1000f100_test51.txt\"\n",
      "[1] \"simresult_l100n1000f100_test52.txt\"\n",
      "[1] \"simresult_l100n1000f100_test53.txt\"\n",
      "[1] \"simresult_l100n1000f100_test54.txt\"\n",
      "[1] \"simresult_l100n1000f100_test55.txt\"\n",
      "[1] \"simresult_l100n1000f100_test56.txt\"\n",
      "[1] \"simresult_l100n1000f100_test57.txt\"\n",
      "[1] \"simresult_l100n1000f100_test58.txt\"\n",
      "[1] \"simresult_l100n1000f100_test59.txt\"\n",
      "[1] \"simresult_l100n1000f100_test6.txt\"\n",
      "[1] \"simresult_l100n1000f100_test60.txt\"\n",
      "[1] \"simresult_l100n1000f100_test61.txt\"\n",
      "[1] \"simresult_l100n1000f100_test62.txt\"\n",
      "[1] \"simresult_l100n1000f100_test63.txt\"\n",
      "[1] \"simresult_l100n1000f100_test64.txt\"\n",
      "[1] \"simresult_l100n1000f100_test65.txt\"\n",
      "[1] \"simresult_l100n1000f100_test66.txt\"\n",
      "[1] \"simresult_l100n1000f100_test67.txt\"\n",
      "[1] \"simresult_l100n1000f100_test68.txt\"\n",
      "[1] \"simresult_l100n1000f100_test69.txt\"\n",
      "[1] \"simresult_l100n1000f100_test7.txt\"\n",
      "[1] \"simresult_l100n1000f100_test70.txt\"\n",
      "[1] \"simresult_l100n1000f100_test71.txt\"\n",
      "[1] \"simresult_l100n1000f100_test72.txt\"\n",
      "[1] \"simresult_l100n1000f100_test73.txt\"\n",
      "[1] \"simresult_l100n1000f100_test74.txt\"\n",
      "[1] \"simresult_l100n1000f100_test75.txt\"\n",
      "[1] \"simresult_l100n1000f100_test76.txt\"\n",
      "[1] \"simresult_l100n1000f100_test77.txt\"\n",
      "[1] \"simresult_l100n1000f100_test78.txt\"\n",
      "[1] \"simresult_l100n1000f100_test79.txt\"\n",
      "[1] \"simresult_l100n1000f100_test8.txt\"\n",
      "[1] \"simresult_l100n1000f100_test80.txt\"\n",
      "[1] \"simresult_l100n1000f100_test81.txt\"\n",
      "[1] \"simresult_l100n1000f100_test82.txt\"\n",
      "[1] \"simresult_l100n1000f100_test83.txt\"\n",
      "[1] \"simresult_l100n1000f100_test84.txt\"\n",
      "[1] \"simresult_l100n1000f100_test85.txt\"\n",
      "[1] \"simresult_l100n1000f100_test86.txt\"\n",
      "[1] \"simresult_l100n1000f100_test87.txt\"\n",
      "[1] \"simresult_l100n1000f100_test88.txt\"\n",
      "[1] \"simresult_l100n1000f100_test89.txt\"\n",
      "[1] \"simresult_l100n1000f100_test9.txt\"\n",
      "[1] \"simresult_l100n1000f100_test90.txt\"\n",
      "[1] \"simresult_l100n1000f100_test91.txt\"\n",
      "[1] \"simresult_l100n1000f100_test92.txt\"\n",
      "[1] \"simresult_l100n1000f100_test93.txt\"\n",
      "[1] \"simresult_l100n1000f100_test94.txt\"\n",
      "[1] \"simresult_l100n1000f100_test95.txt\"\n",
      "[1] \"simresult_l100n1000f100_test96.txt\"\n",
      "[1] \"simresult_l100n1000f100_test97.txt\"\n",
      "[1] \"simresult_l100n1000f100_test98.txt\"\n",
      "[1] \"simresult_l100n1000f100_test99.txt\"\n",
      "[1] \"simresult_l100n100f100_test1.txt\"\n",
      "[1] \"simresult_l100n100f100_test10.txt\"\n",
      "[1] \"simresult_l100n100f100_test100.txt\"\n",
      "[1] \"simresult_l100n100f100_test11.txt\"\n",
      "[1] \"simresult_l100n100f100_test12.txt\"\n",
      "[1] \"simresult_l100n100f100_test13.txt\"\n",
      "[1] \"simresult_l100n100f100_test14.txt\"\n",
      "[1] \"simresult_l100n100f100_test15.txt\"\n",
      "[1] \"simresult_l100n100f100_test16.txt\"\n",
      "[1] \"simresult_l100n100f100_test17.txt\"\n",
      "[1] \"simresult_l100n100f100_test18.txt\"\n",
      "[1] \"simresult_l100n100f100_test19.txt\"\n",
      "[1] \"simresult_l100n100f100_test2.txt\"\n",
      "[1] \"simresult_l100n100f100_test20.txt\"\n",
      "[1] \"simresult_l100n100f100_test21.txt\"\n",
      "[1] \"simresult_l100n100f100_test22.txt\"\n"
     ]
    },
    {
     "ename": "ERROR",
     "evalue": "Error in read.table(file, sep = \" \", header = F): no lines available in input\n",
     "output_type": "error",
     "traceback": [
      "Error in read.table(file, sep = \" \", header = F): no lines available in input\nTraceback:\n",
      "1. read.table(file, sep = \" \", header = F)",
      "2. stop(\"no lines available in input\")"
     ]
    }
   ],
   "source": [
    "# get the running parameter for each result\n",
    "files_strat <- map_chr(strsplit(result_files, \"_\"), 2)\n",
    "files_strat <- strsplit(files_strat, '[lnf]')\n",
    "strat_tb <- do.call(rbind, files_strat)[, -1]\n",
    "strat_tb <- as.data.frame(apply(strat_tb, 2, as.numeric))\n",
    "colnames(strat_tb) <- c(\"l\", \"n\", \"f\")\n",
    "l_unique <- unique(strat_tb$l)\n",
    "n_unique <- unique(strat_tb$n)\n",
    "f_unique <- unique(strat_tb$f)\n",
    "\n",
    "# get the result for each parameter combination\n",
    "lnf_comb <- expand.grid(l_unique, n_unique, f_unique)\n",
    "for (i in 1:nrow(lnf_comb)) {\n",
    "    l <- lnf_comb[i, 1]\n",
    "    n <- lnf_comb[i, 2]\n",
    "    f <- lnf_comb[i, 3]\n",
    "    cur_strat_ind <- which(\n",
    "                strat_tb$l == l &\n",
    "                strat_tb$n == n &\n",
    "                strat_tb$f == f\n",
    "            )\n",
    "    cur_files <- result_files[cur_strat_ind]\n",
    "\n",
    "    # read each result files to get the simulation result\n",
    "    for (file in cur_files) {\n",
    "        # if there is no line, then there is no TP nor FP\n",
    "        if (file.info(file_name)$size < 2) {\n",
    "            tp_cnt <- 0\n",
    "            fp_cnt <- 0\n",
    "            next\n",
    "        }\n",
    "        cur_result <- read.table(file, sep = \" \", header = F)\n",
    "        colnames(cur_result) <- c(\"siteA\", \"siteB\")\n",
    "        cur_result %>% \n",
    "            mutate(pair_id = paste(sort(c(siteA, siteB)), collapse = \"_\"))\n",
    "        \n",
    "    }\n",
    "}"
   ]
  },
  {
   "cell_type": "code",
   "execution_count": null,
   "metadata": {
    "vscode": {
     "languageId": "r"
    }
   },
   "outputs": [],
   "source": [
    "a"
   ]
  },
  {
   "cell_type": "code",
   "execution_count": null,
   "metadata": {
    "vscode": {
     "languageId": "r"
    }
   },
   "outputs": [],
   "source": []
  },
  {
   "cell_type": "code",
   "execution_count": null,
   "metadata": {
    "vscode": {
     "languageId": "r"
    }
   },
   "outputs": [],
   "source": []
  }
 ],
 "metadata": {
  "kernelspec": {
   "display_name": "R",
   "language": "R",
   "name": "ir"
  },
  "language_info": {
   "codemirror_mode": "r",
   "file_extension": ".r",
   "mimetype": "text/x-r-source",
   "name": "R",
   "pygments_lexer": "r",
   "version": "4.1.2"
  }
 },
 "nbformat": 4,
 "nbformat_minor": 2
}
