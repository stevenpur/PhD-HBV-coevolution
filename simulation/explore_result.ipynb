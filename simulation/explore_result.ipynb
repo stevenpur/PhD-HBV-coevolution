{
 "cells": [
  {
   "cell_type": "code",
   "execution_count": 27,
   "metadata": {
    "vscode": {
     "languageId": "r"
    }
   },
   "outputs": [],
   "source": [
    "library(tidyverse)\n",
    "\n",
    "setwd(\"~/hbv_covar3/analysis/sim_seq/\")\n",
    "\n",
    "# result files\n",
    "result_files <- list.files(\"./\", pattern = \"simresult.*test\")\n"
   ]
  },
  {
   "cell_type": "code",
   "execution_count": 70,
   "metadata": {
    "vscode": {
     "languageId": "r"
    }
   },
   "outputs": [],
   "source": [
    "# get the running parameter for each result\n",
    "files_strat <- map_chr(strsplit(result_files, \"_\"), 2)\n",
    "files_strat <- strsplit(files_strat, '[lnf]')\n",
    "strat_tb <- do.call(rbind, files_strat)[, -1]\n",
    "strat_tb <- as.data.frame(apply(strat_tb, 2, as.numeric))\n",
    "colnames(strat_tb) <- c(\"l\", \"n\", \"f\")\n",
    "l_unique <- unique(strat_tb$l)\n",
    "n_unique <- unique(strat_tb$n)\n",
    "f_unique <- unique(strat_tb$f)\n",
    "\n",
    "# get the result for each parameter combination\n",
    "coev_pair <- c(\"site1:site2\", \"site2:site3\") # the true coevolving pairs\n",
    "indir_coev_pair <- c(\"site1:site3\") # the indirect coevolution\n",
    "\n",
    "result <- list()\n",
    "lnf_comb <- expand.grid(l_unique, n_unique, f_unique)\n",
    "for (i in 1:nrow(lnf_comb)) {\n",
    "    l <- lnf_comb[i, 1]\n",
    "    n <- lnf_comb[i, 2]\n",
    "    f <- lnf_comb[i, 3]\n",
    "    param_set <- paste0(\"l\", l, \"n\", n, \"f\", f)\n",
    "    result[[param_set]] <- list()\n",
    "    cur_strat_ind <- which(\n",
    "                strat_tb$l == l &\n",
    "                strat_tb$n == n &\n",
    "                strat_tb$f == f\n",
    "            )\n",
    "    cur_files <- result_files[cur_strat_ind]\n",
    "\n",
    "    # read each result files to get the simulation result\n",
    "    for (file in cur_files) {\n",
    "        # if there is no line, then there is no TP nor FP\n",
    "        if (file.info(file)$size < 2) {\n",
    "            tp_cnt <- 0\n",
    "            fp1_cnt <- 0\n",
    "            fp2_cnt <- 0\n",
    "        } else {\n",
    "            # get the pair id from the result files\n",
    "            cur_result <- read.table(file, sep = \" \", header = F)\n",
    "            colnames(cur_result) <- c(\"siteA\", \"siteB\")\n",
    "            cur_result$pair_id <- map_chr(1:nrow(cur_result), function(x) {\n",
    "                paste(sort(c(cur_result[x, 1], cur_result[x, 2])), collapse = \":\")\n",
    "            })\n",
    "            pair_id_unique <- unique(cur_result$pair_id)\n",
    "            # we are not interested in edge_length signal\n",
    "            el_ind <- grep(\"edge_length\", pair_id_unique)\n",
    "            if (length(el_ind) > 0) {\n",
    "                pair_id_unique <- pair_id_unique[-el_ind]\n",
    "            }\n",
    "            \n",
    "            # use the pair_id to find the TP and FP\n",
    "            tp_cnt <- sum(pair_id_unique %in% coev_pair)\n",
    "            fp1_cnt <- sum(pair_id_unique %in% indir_coev_pair)\n",
    "            fp2_cnt <- length(pair_id_unique) - tp_cnt - fp1_cnt\n",
    "        }\n",
    "        result[[param_set]][[file]] <- c(tp_cnt, fp1_cnt, fp2_cnt)\n",
    "       \n",
    "    }\n",
    "}\n",
    "\n",
    "# group each parameter set in to a table\n",
    "result_tb <- map(result, function(x) {\n",
    "    cur_result <- as.data.frame(do.call(rbind, x))\n",
    "    colnames(cur_result) <- c(\"coev_found\", \"indir_coev_found\", \"false_coev_found\")\n",
    "    return(cur_result)\n",
    "})"
   ]
  },
  {
   "cell_type": "code",
   "execution_count": 72,
   "metadata": {
    "vscode": {
     "languageId": "r"
    }
   },
   "outputs": [],
   "source": [
    "# From the result, get the performance of each parameter set\n",
    "true_dir_assoc_cnt <- 2\n",
    "true_indir_assoc_cnt <- 1\n",
    "\n",
    "roc_result <- list()\n",
    "lnf_comb <- expand.grid(l_unique, n_unique, f_unique)\n",
    "for (i in 1:nrow(lnf_comb)) {    \n",
    "    l <- lnf_comb[i, 1]\n",
    "    n <- lnf_comb[i, 2]\n",
    "    f <- lnf_comb[i, 3]\n",
    "    param_set <- paste0(\"l\", l, \"n\", n, \"f\", f)\n",
    "\n",
    "    true_no_assoc_cnt <- choose(l, 2)\n",
    "    cur_result <- result_tb[[param_set]]\n",
    "    avg_tpr <- sum(cur_result$coev_found)/(true_dir_assoc_cnt*nrow(cur_result))\n",
    "    avg_fpr <- (sum(cur_result$indir_coev_found) + sum(cur_result$false_coev_found))/(true_no_assoc_cnt * nrow(cur_result))\n",
    "    avg_indir <- sum(cur_result$indir_coev_found) / nrow(cur_result)\n",
    "    roc_result[[param_set]] <- c(avg_tpr, avg_fpr, avg_indir)\n",
    "}\n",
    "\n",
    "roc_result <- do.call(rbind, roc_result)\n",
    "colnames(roc_result) <- c(\"avg_tpr\", \"avg_fpr\", \"avg_indir\")"
   ]
  },
  {
   "cell_type": "markdown",
   "metadata": {},
   "source": []
  },
  {
   "cell_type": "code",
   "execution_count": 73,
   "metadata": {
    "vscode": {
     "languageId": "r"
    }
   },
   "outputs": [
    {
     "data": {
      "text/html": [
       "<table class=\"dataframe\">\n",
       "<caption>A matrix: 9 x 3 of type dbl</caption>\n",
       "<thead>\n",
       "\t<tr><th></th><th scope=col>avg_tpr</th><th scope=col>avg_fpr</th><th scope=col>avg_indir</th></tr>\n",
       "</thead>\n",
       "<tbody>\n",
       "\t<tr><th scope=row>l100n1000f100</th><td>0.985</td><td>0.0058343434</td><td>0.03</td></tr>\n",
       "\t<tr><th scope=row>l100n100f100</th><td>0.270</td><td>0.0004080808</td><td>0.03</td></tr>\n",
       "\t<tr><th scope=row>l100n2000f100</th><td>0.985</td><td>0.0093070707</td><td>0.03</td></tr>\n",
       "\t<tr><th scope=row>l100n1000f10</th><td>0.190</td><td>0.0057131313</td><td>0.01</td></tr>\n",
       "\t<tr><th scope=row>l100n100f10</th><td>0.015</td><td>0.0004060606</td><td>0.00</td></tr>\n",
       "\t<tr><th scope=row>l100n2000f10</th><td>0.430</td><td>0.0094888889</td><td>0.01</td></tr>\n",
       "\t<tr><th scope=row>l100n1000f2</th><td>0.000</td><td>0.0057535354</td><td>0.00</td></tr>\n",
       "\t<tr><th scope=row>l100n100f2</th><td>0.000</td><td>0.0004060606</td><td>0.00</td></tr>\n",
       "\t<tr><th scope=row>l100n2000f2</th><td>0.005</td><td>0.0094464646</td><td>0.00</td></tr>\n",
       "</tbody>\n",
       "</table>\n"
      ],
      "text/latex": [
       "A matrix: 9 x 3 of type dbl\n",
       "\\begin{tabular}{r|lll}\n",
       "  & avg\\_tpr & avg\\_fpr & avg\\_indir\\\\\n",
       "\\hline\n",
       "\tl100n1000f100 & 0.985 & 0.0058343434 & 0.03\\\\\n",
       "\tl100n100f100 & 0.270 & 0.0004080808 & 0.03\\\\\n",
       "\tl100n2000f100 & 0.985 & 0.0093070707 & 0.03\\\\\n",
       "\tl100n1000f10 & 0.190 & 0.0057131313 & 0.01\\\\\n",
       "\tl100n100f10 & 0.015 & 0.0004060606 & 0.00\\\\\n",
       "\tl100n2000f10 & 0.430 & 0.0094888889 & 0.01\\\\\n",
       "\tl100n1000f2 & 0.000 & 0.0057535354 & 0.00\\\\\n",
       "\tl100n100f2 & 0.000 & 0.0004060606 & 0.00\\\\\n",
       "\tl100n2000f2 & 0.005 & 0.0094464646 & 0.00\\\\\n",
       "\\end{tabular}\n"
      ],
      "text/markdown": [
       "\n",
       "A matrix: 9 x 3 of type dbl\n",
       "\n",
       "| <!--/--> | avg_tpr | avg_fpr | avg_indir |\n",
       "|---|---|---|---|\n",
       "| l100n1000f100 | 0.985 | 0.0058343434 | 0.03 |\n",
       "| l100n100f100 | 0.270 | 0.0004080808 | 0.03 |\n",
       "| l100n2000f100 | 0.985 | 0.0093070707 | 0.03 |\n",
       "| l100n1000f10 | 0.190 | 0.0057131313 | 0.01 |\n",
       "| l100n100f10 | 0.015 | 0.0004060606 | 0.00 |\n",
       "| l100n2000f10 | 0.430 | 0.0094888889 | 0.01 |\n",
       "| l100n1000f2 | 0.000 | 0.0057535354 | 0.00 |\n",
       "| l100n100f2 | 0.000 | 0.0004060606 | 0.00 |\n",
       "| l100n2000f2 | 0.005 | 0.0094464646 | 0.00 |\n",
       "\n"
      ],
      "text/plain": [
       "              avg_tpr avg_fpr      avg_indir\n",
       "l100n1000f100 0.985   0.0058343434 0.03     \n",
       "l100n100f100  0.270   0.0004080808 0.03     \n",
       "l100n2000f100 0.985   0.0093070707 0.03     \n",
       "l100n1000f10  0.190   0.0057131313 0.01     \n",
       "l100n100f10   0.015   0.0004060606 0.00     \n",
       "l100n2000f10  0.430   0.0094888889 0.01     \n",
       "l100n1000f2   0.000   0.0057535354 0.00     \n",
       "l100n100f2    0.000   0.0004060606 0.00     \n",
       "l100n2000f2   0.005   0.0094464646 0.00     "
      ]
     },
     "metadata": {},
     "output_type": "display_data"
    }
   ],
   "source": [
    "roc_result"
   ]
  },
  {
   "cell_type": "code",
   "execution_count": null,
   "metadata": {
    "vscode": {
     "languageId": "r"
    }
   },
   "outputs": [],
   "source": []
  }
 ],
 "metadata": {
  "kernelspec": {
   "display_name": "R",
   "language": "R",
   "name": "ir"
  },
  "language_info": {
   "codemirror_mode": "r",
   "file_extension": ".r",
   "mimetype": "text/x-r-source",
   "name": "R",
   "pygments_lexer": "r",
   "version": "4.1.2"
  }
 },
 "nbformat": 4,
 "nbformat_minor": 2
}
