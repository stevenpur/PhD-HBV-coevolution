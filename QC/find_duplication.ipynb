{
 "cells": [
  {
   "cell_type": "markdown",
   "metadata": {},
   "source": [
    "we want to know for the samples that we have, are there sequences that are very closely related and are therefore likely to have originated from the same patient."
   ]
  },
  {
   "cell_type": "code",
   "execution_count": 1,
   "metadata": {
    "vscode": {
     "languageId": "r"
    }
   },
   "outputs": [
    {
     "name": "stderr",
     "output_type": "stream",
     "text": [
      "\n",
      "Attaching package: 'igraph'\n",
      "\n",
      "\n",
      "The following objects are masked from 'package:ape':\n",
      "\n",
      "    edges, mst, ring\n",
      "\n",
      "\n",
      "The following objects are masked from 'package:stats':\n",
      "\n",
      "    decompose, spectrum\n",
      "\n",
      "\n",
      "The following object is masked from 'package:base':\n",
      "\n",
      "    union\n",
      "\n",
      "\n",
      "\n",
      "Attaching package: 'phangorn'\n",
      "\n",
      "\n",
      "The following object is masked from 'package:igraph':\n",
      "\n",
      "    diversity\n",
      "\n",
      "\n",
      "Loading required package: BiocGenerics\n",
      "\n",
      "\n",
      "Attaching package: 'BiocGenerics'\n",
      "\n",
      "\n",
      "The following objects are masked from 'package:igraph':\n",
      "\n",
      "    normalize, path, union\n",
      "\n",
      "\n",
      "The following objects are masked from 'package:stats':\n",
      "\n",
      "    IQR, mad, sd, var, xtabs\n",
      "\n",
      "\n",
      "The following objects are masked from 'package:base':\n",
      "\n",
      "    Filter, Find, Map, Position, Reduce, anyDuplicated, append,\n",
      "    as.data.frame, basename, cbind, colnames, dirname, do.call,\n",
      "    duplicated, eval, evalq, get, grep, grepl, intersect, is.unsorted,\n",
      "    lapply, mapply, match, mget, order, paste, pmax, pmax.int, pmin,\n",
      "    pmin.int, rank, rbind, rownames, sapply, setdiff, sort, table,\n",
      "    tapply, union, unique, unsplit, which.max, which.min\n",
      "\n",
      "\n",
      "Loading required package: S4Vectors\n",
      "\n",
      "Loading required package: stats4\n",
      "\n",
      "\n",
      "Attaching package: 'S4Vectors'\n",
      "\n",
      "\n",
      "The following objects are masked from 'package:reshape':\n",
      "\n",
      "    expand, rename\n",
      "\n",
      "\n",
      "The following objects are masked from 'package:base':\n",
      "\n",
      "    I, expand.grid, unname\n",
      "\n",
      "\n",
      "Loading required package: IRanges\n",
      "\n",
      "Loading required package: XVector\n",
      "\n",
      "Loading required package: GenomeInfoDb\n",
      "\n",
      "\n",
      "Attaching package: 'Biostrings'\n",
      "\n",
      "\n",
      "The following object is masked from 'package:ape':\n",
      "\n",
      "    complement\n",
      "\n",
      "\n",
      "The following object is masked from 'package:base':\n",
      "\n",
      "    strsplit\n",
      "\n",
      "\n"
     ]
    }
   ],
   "source": [
    "library(ape)\n",
    "library(reshape)\n",
    "library(igraph)\n",
    "library(cluster)\n",
    "library(phangorn)\n",
    "library(Biostrings)\n",
    "setwd('~/hbv_covar3/')"
   ]
  },
  {
   "cell_type": "code",
   "execution_count": 2,
   "metadata": {
    "scrolled": false,
    "vscode": {
     "languageId": "r"
    }
   },
   "outputs": [],
   "source": [
    "cur_genotype = 'A'\n",
    "seq_file = paste0('./QC/step1_mafft/HBV_', cur_genotype, '_nt_mafft.fasta')\n",
    "hbv_seqs = read.dna(seq_file, as.matrix = T, as.character = T, format = 'fasta')\n",
    "rownames(hbv_seqs) = unlist(lapply(rownames(hbv_seqs), function(x){\n",
    "    paste0(strsplit(strsplit(x, '\\\\|')[[1]][3], '_')[[1]][1], '_', cur_genotype)\n",
    "}))\n",
    "hbv.dist = as.matrix(dist.hamming(as.phyDat(hbv_seqs), exclude = 'pairwise'))"
   ]
  },
  {
   "cell_type": "markdown",
   "metadata": {},
   "source": [
    "### plot distribution of pairwise distance"
   ]
  },
  {
   "cell_type": "code",
   "execution_count": 3,
   "metadata": {
    "scrolled": true,
    "vscode": {
     "languageId": "r"
    }
   },
   "outputs": [
    {
     "data": {
      "image/png": "[encoded data removed]",
      "text/plain": [
       "Plot with title \"HBVA\""
      ]
     },
     "metadata": {
      "image/png": {
       "height": 420,
       "width": 420
      }
     },
     "output_type": "display_data"
    }
   ],
   "source": [
    "hbv.dist.lower = hbv.dist\n",
    "hbv.dist.lower[upper.tri(hbv.dist, diag = T)] = NA\n",
    "hist(unlist(hbv.dist.lower), 100, \n",
    "     main = paste0('HBV', cur_genotype),\n",
    "     xlab = 'pairwise distance') "
   ]
  },
  {
   "cell_type": "markdown",
   "metadata": {},
   "source": [
    "### Identify duplication at 0.5% identity level"
   ]
  },
  {
   "cell_type": "code",
   "execution_count": 4,
   "metadata": {
    "scrolled": false,
    "vscode": {
     "languageId": "r"
    }
   },
   "outputs": [
    {
     "name": "stdout",
     "output_type": "stream",
     "text": [
      "[1] 970\n",
      "[1] 453\n"
     ]
    }
   ],
   "source": [
    "azimCut = 0.005\n",
    "hbv.dist.norm = hbv.dist\n",
    "# find clusters where maximum distance within a cluster is 0.5% nucelotide difference\n",
    "azimCutHclust = hclust(as.dist(hbv.dist.norm))\n",
    "azimCutClusters = cutree(azimCutHclust, h = azimCut)\n",
    "uniqueSamples = names(azimCutClusters)[(which(!duplicated(azimCutClusters)))]\n",
    "print(nrow(hbv_seqs))\n",
    "print(length(uniqueSamples))"
   ]
  },
  {
   "cell_type": "markdown",
   "metadata": {},
   "source": [
    "### For each cluster of potential duplicates, pick the one with the most unambiguous nt"
   ]
  },
  {
   "cell_type": "code",
   "execution_count": 154,
   "metadata": {
    "vscode": {
     "languageId": "r"
    }
   },
   "outputs": [],
   "source": [
    "include_names = vector()\n",
    "for(i in 1:max(azimCutClusters)){\n",
    "    samps = names(azimCutClusters)[which(azimCutClusters == i)]\n",
    "    seqs =  hbv_seqs[samps,,drop = F]\n",
    "    seqs_ambig_cnt = unlist(apply(seqs, 1, function(x){\n",
    "        if ('-' %in% x){\n",
    "            x = x[-which(x == '-')]\n",
    "        }\n",
    "        return(length(which(!(x %in% c('a', 'c', 't', 'g')))))\n",
    "    }))\n",
    "    include_names = c(include_names, rownames(seqs)[which.min(seqs_ambig_cnt)])\n",
    "}"
   ]
  },
  {
   "cell_type": "code",
   "execution_count": 155,
   "metadata": {
    "vscode": {
     "languageId": "r"
    }
   },
   "outputs": [
    {
     "data": {
      "text/html": [
       "<style>\n",
       ".list-inline {list-style: none; margin:0; padding: 0}\n",
       ".list-inline>li {display: inline-block}\n",
       ".list-inline>li:not(:last-child)::after {content: \"\\00b7\"; padding: 0 .5ex}\n",
       "</style>\n",
       "<ol class=list-inline><li>18</li><li>3215</li></ol>\n"
      ],
      "text/latex": [
       "\\begin{enumerate*}\n",
       "\\item 18\n",
       "\\item 3215\n",
       "\\end{enumerate*}\n"
      ],
      "text/markdown": [
       "1. 18\n",
       "2. 3215\n",
       "\n",
       "\n"
      ],
      "text/plain": [
       "[1]   18 3215"
      ]
     },
     "metadata": {},
     "output_type": "display_data"
    }
   ],
   "source": [
    "hbv_seqs_unique = hbv_seqs[include_names,]\n",
    "dim(hbv_seqs_unique)"
   ]
  },
  {
   "cell_type": "markdown",
   "metadata": {},
   "source": [
    "### Clean up the naming of each sequence"
   ]
  },
  {
   "cell_type": "code",
   "execution_count": 156,
   "metadata": {
    "vscode": {
     "languageId": "r"
    }
   },
   "outputs": [],
   "source": [
    "write.dna(as.DNAbin(hbv_seqs_unique), paste0('./QC/step2_findDup/HBV_', cur_genotype,'_nodup05.fasta'), format = 'fasta', colsep = '')\n",
    "write.dna(as.DNAbin(hbv_seqs_unique), paste0('./QC/step2_findDup/HBV_', cur_genotype,'_nodup05.phylip'), format = 'interleaved', colsep = '')"
   ]
  },
  {
   "cell_type": "code",
   "execution_count": 162,
   "metadata": {
    "vscode": {
     "languageId": "r"
    }
   },
   "outputs": [],
   "source": [
    "for (genotype in c('A', 'B', 'C', 'D', 'E', 'F', 'G', 'H')){\n",
    "    temp = read.dna(paste0('./QC/step2_findDup/HBV_', genotype,'_nodup05.fasta'), format = 'fasta')\n",
    "    write.dna(temp, paste0('./QC/step2_findDup/HBV_', genotype,'_nodup05.fasta'), format = 'fasta', colsep = '')\n",
    "}"
   ]
  },
  {
   "cell_type": "code",
   "execution_count": null,
   "metadata": {
    "vscode": {
     "languageId": "r"
    }
   },
   "outputs": [],
   "source": []
  },
  {
   "cell_type": "code",
   "execution_count": null,
   "metadata": {
    "vscode": {
     "languageId": "r"
    }
   },
   "outputs": [],
   "source": []
  },
  {
   "cell_type": "code",
   "execution_count": null,
   "metadata": {
    "vscode": {
     "languageId": "r"
    }
   },
   "outputs": [],
   "source": []
  },
  {
   "cell_type": "code",
   "execution_count": null,
   "metadata": {
    "vscode": {
     "languageId": "r"
    }
   },
   "outputs": [],
   "source": [
    "## getting the consensus sequence"
   ]
  }
 ],
 "metadata": {
  "kernelspec": {
   "display_name": "R",
   "language": "R",
   "name": "ir"
  },
  "language_info": {
   "codemirror_mode": "r",
   "file_extension": ".r",
   "mimetype": "text/x-r-source",
   "name": "R",
   "pygments_lexer": "r",
   "version": "4.1.2"
  }
 },
 "nbformat": 4,
 "nbformat_minor": 2
}
