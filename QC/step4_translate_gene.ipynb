{
 "cells": [
  {
   "cell_type": "code",
   "execution_count": 1072,
   "metadata": {
    "scrolled": true
   },
   "outputs": [],
   "source": [
    "library(ape)\n",
    "library(seqinr)\n",
    "library(phangorn)"
   ]
  },
  {
   "cell_type": "markdown",
   "metadata": {},
   "source": [
    "### Remove genotypes with N<50 and add in the reference sequences"
   ]
  },
  {
   "cell_type": "code",
   "execution_count": 1073,
   "metadata": {},
   "outputs": [],
   "source": [
    "# reference sequence for each genotype\n",
    "# A: FJ692557\n",
    "# B: GU815637\n",
    "# C: GQ377617\n",
    "# D: NC_003977\n",
    "# E: GQ161817\n",
    "# F: HM585194"
   ]
  },
  {
   "cell_type": "code",
   "execution_count": 1078,
   "metadata": {
    "scrolled": true
   },
   "outputs": [
    {
     "data": {
      "text/plain": [
       "msa_genotypes\n",
       "   A    B    C    D    E    F    G    H \n",
       " 453 1072 1674  841  261  136    7   18 "
      ]
     },
     "metadata": {},
     "output_type": "display_data"
    }
   ],
   "source": [
    "seqs = read.dna('~/hbv_covar3/QC/step3_phyloCheck/HBV_ALLgeno_nodup05_mafft_phyloFilter.fasta', format = 'fasta', as.character = T)\n",
    "msa_genotypes = unlist(lapply(strsplit(rownames(seqs), '_'), function(x) x[2]))\n",
    "analyse_genotype = c('A', 'B', 'C', 'D', 'E', 'F', 'G', 'H')\n",
    "                              \n",
    "# first Let's remove genotypes under 50 (G and H)\n",
    "table(msa_genotypes)\n",
    "rm_genotypes = c('G', 'H')\n",
    "analyse_genotype = analyse_genotype[-which(analyse_genotype %in% rm_genotypes)]\n",
    "seqs = seqs[-which(msa_genotypes %in% rm_genotypes),]\n",
    "\n",
    "##########################\n",
    "# set up for realignment #\n",
    "##########################\n",
    "                              \n",
    "# remove the gaps\n",
    "seqs = apply(seqs, 1, function(x){\n",
    "    x = x[-which(x == '-')]\n",
    "    return(x)\n",
    "})\n",
    "                              \n",
    "# then add the reference sequence into the mix\n",
    "ref_id = list(A = 'FJ692557', B = 'GU815637', C = 'GQ377617', D = 'NC_003977', E = 'GQ161817', F = 'HM585194' )\n",
    "for (genotype in analyse_genotype){\n",
    "    if (paste0(ref_id[[genotype]], '_', genotype) %in% rownames(seqs)){\n",
    "        message(paste0('PROBLEM: reference sequence', ref_id[[genotype]] ,'already in the msa!!'))\n",
    "        break\n",
    "    }else{\n",
    "        ref_file = paste0('~/hbv_covar3/raw_data/', ref_id[[genotype]], '.fasta')\n",
    "        ref_seq = read.dna(ref_file, as.character = T, format = 'fasta')\n",
    "        seqs[[paste0('ref_', ref_id[[genotype]], '_', genotype)]] = ref_seq[1,]\n",
    "    }\n",
    "}\n",
    "write.dna(seqs, '~/hbv_covar3/QC/step4_translate_gene/HBV_ALLgeno_phyloFilter_ref.fasta', format = 'fasta', colsep = '')"
   ]
  },
  {
   "cell_type": "markdown",
   "metadata": {},
   "source": [
    "Sequences were then align using mafft <br>\n",
    "/apps/well/mafft/7.149/bin/mafft HBV_ALLgeno_phyloFilter_ref.fasta > HBV_ALLgeno_phyloFilter_ref_mafft.fasta"
   ]
  },
  {
   "cell_type": "code",
   "execution_count": 1079,
   "metadata": {},
   "outputs": [],
   "source": [
    "gene_ref_pos = list()\n",
    "gene_ref_pos[['A']] = list(\n",
    "    S = c(2854:3221,1:835),\n",
    "    X = c(1374:1838),\n",
    "    C = c(1814:2458),\n",
    "    P = c(2307:3221,1:1623)\n",
    ")\n",
    "gene_ref_pos[['B']] = list(\n",
    "    S = c(2848:3215,1:835),\n",
    "    X = c(1374:1838),\n",
    "    C = c(1814:2452),\n",
    "    P = c(2307:3215,1:1623)\n",
    ")\n",
    "gene_ref_pos[['C']] = list(\n",
    "    S = c(2848:3215,1:835),\n",
    "    X = c(1374:1838),\n",
    "    C = c(1814:2452),\n",
    "    P = c(2307:3215,1:1623)\n",
    ")\n",
    "gene_ref_pos[['D']] = list(\n",
    "    S = c(2850:3182,1:837),\n",
    "    X = c(1376:1840),\n",
    "    C = c(1816:2454),\n",
    "    P = c(2309:3182,1:1625)\n",
    ")\n",
    "gene_ref_pos[['E']] = list(\n",
    "    S = c(2848:3212,1:835),\n",
    "    X = c(1374:1838),\n",
    "    C = c(1814:2452),\n",
    "    P = c(2307:3212,1:1623)\n",
    ")\n",
    "gene_ref_pos[['F']] = list(\n",
    "    S = c(2848:3215,1:835),\n",
    "    X = c(1374:1838),\n",
    "    C = c(1814:2452),\n",
    "    P = c(2307:3215,1:1623)\n",
    ")"
   ]
  },
  {
   "cell_type": "code",
   "execution_count": 1080,
   "metadata": {},
   "outputs": [],
   "source": [
    "seqs = read.dna('~/hbv_covar3/QC/step4_translate_gene/HBV_ALLgeno_phyloFilter_ref_mafft.fasta', format = 'fasta', as.character = T)"
   ]
  },
  {
   "cell_type": "code",
   "execution_count": 1125,
   "metadata": {
    "scrolled": true
   },
   "outputs": [],
   "source": [
    "ref_msa_id = vector()\n",
    "for(genotype in analyse_genotype){\n",
    "    ref_msa_id[genotype] = paste0('ref_', ref_id[[genotype]], '_', genotype)\n",
    "}\n",
    "\n",
    "# adjust gene pos to msa\n",
    "ref_msa_originPos = list()\n",
    "for(genotype in analyse_genotype){\n",
    "    ref_msa_seq = seqs[ref_msa_id[genotype],]\n",
    "    ref_msa_originPos[[genotype]] = rep(NA, length(ref_msa_seq))\n",
    "    ind = 1\n",
    "    for(i in 1:length(ref_msa_seq)){\n",
    "        nt = ref_msa_seq[i]\n",
    "        if (nt != '-'){\n",
    "            ref_msa_originPos[[genotype]][i] = ind\n",
    "            ind = ind + 1\n",
    "        }\n",
    "    }\n",
    "}\n"
   ]
  },
  {
   "cell_type": "code",
   "execution_count": 1082,
   "metadata": {},
   "outputs": [],
   "source": [
    "# get the msa pos\n",
    "gene_msa_pos = list()\n",
    "for (genotype in analyse_genotype){\n",
    "    gene_msa_pos[[genotype]] = list()\n",
    "    for (gene in names(gene_ref_pos[['A']])){\n",
    "        ref_pos = gene_ref_pos[[genotype]][[gene]]\n",
    "        start = ref_pos[1]\n",
    "        end = ref_pos[length(ref_pos)]\n",
    "        if (end > start){\n",
    "            msa_start = which(ref_msa_originPos[[genotype]] == start)\n",
    "            msa_end = which(ref_msa_originPos[[genotype]] == end)\n",
    "            gene_msa_pos[[genotype]][[gene]] = msa_start:msa_end\n",
    "        }else {\n",
    "            msa_start = which(ref_msa_originPos[[genotype]] == start)\n",
    "            msa_end = which(ref_msa_originPos[[genotype]] == end)\n",
    "            gene_msa_pos[[genotype]][[gene]] = c(msa_start:ncol(seqs), 1:msa_end)\n",
    "        }\n",
    "    }\n",
    "}"
   ]
  },
  {
   "cell_type": "code",
   "execution_count": 1124,
   "metadata": {},
   "outputs": [],
   "source": [
    "saveRDS(gene_msa_pos, '~/hbv_covar3/QC/step4_translate_gene/gene_msa_pos.rds')"
   ]
  },
  {
   "cell_type": "code",
   "execution_count": 1086,
   "metadata": {
    "scrolled": true
   },
   "outputs": [
    {
     "data": {
      "text/html": [
       "0"
      ],
      "text/latex": [
       "0"
      ],
      "text/markdown": [
       "0"
      ],
      "text/plain": [
       "[1] 0"
      ]
     },
     "metadata": {},
     "output_type": "display_data"
    },
    {
     "data": {
      "text/html": [
       "0"
      ],
      "text/latex": [
       "0"
      ],
      "text/markdown": [
       "0"
      ],
      "text/plain": [
       "[1] 0"
      ]
     },
     "metadata": {},
     "output_type": "display_data"
    },
    {
     "data": {
      "text/html": [
       "0"
      ],
      "text/latex": [
       "0"
      ],
      "text/markdown": [
       "0"
      ],
      "text/plain": [
       "[1] 0"
      ]
     },
     "metadata": {},
     "output_type": "display_data"
    },
    {
     "data": {
      "text/html": [
       "0"
      ],
      "text/latex": [
       "0"
      ],
      "text/markdown": [
       "0"
      ],
      "text/plain": [
       "[1] 0"
      ]
     },
     "metadata": {},
     "output_type": "display_data"
    },
    {
     "data": {
      "text/html": [
       "0"
      ],
      "text/latex": [
       "0"
      ],
      "text/markdown": [
       "0"
      ],
      "text/plain": [
       "[1] 0"
      ]
     },
     "metadata": {},
     "output_type": "display_data"
    }
   ],
   "source": [
    "gene = 'X'\n",
    "sum(gene_msa_pos[['A']][[gene]] != gene_msa_pos[['B']][[gene]])\n",
    "sum(gene_msa_pos[['B']][[gene]] != gene_msa_pos[['C']][[gene]])\n",
    "sum(gene_msa_pos[['C']][[gene]] != gene_msa_pos[['D']][[gene]])\n",
    "sum(gene_msa_pos[['D']][[gene]] != gene_msa_pos[['E']][[gene]])\n",
    "sum(gene_msa_pos[['E']][[gene]] != gene_msa_pos[['F']][[gene]])\n",
    "\n",
    "# For each gene, the msa position is the same across all genotypes, which is good!"
   ]
  },
  {
   "cell_type": "code",
   "execution_count": 1088,
   "metadata": {},
   "outputs": [],
   "source": [
    "# extract the sequence and reomve gap to translate\n",
    "gene_AAseqs = list()\n",
    "gene_NTseqs = list()\n",
    "for (gene in names(gene_ref_pos[['A']])){\n",
    "    gene_pos = gene_msa_pos[['A']][[gene]] # all genotype map to the same position, does matter which one we choose here\n",
    "    gene_msa_seq = seqs[,gene_pos]\n",
    "    write.FASTA(as.DNAbin(gene_msa_seq),\n",
    "                paste0('~/hbv_covar3/QC/step4_translate_gene/HBV_gene', gene, '_mafft_seqs.fasta'))\n",
    "    gene_NTseqs[[gene]] = apply(gene_msa_seq, 1, function(x) x[-which(x == '-')])\n",
    "    gene_AAseqs[[gene]] = lapply(gene_NTseqs[[gene]], translate)\n",
    "    write.FASTA(as.DNAbin(gene_NTseqs[[gene]]),\n",
    "               paste0('~/hbv_covar3/QC/step4_translate_gene/HBV_gene', gene, '_seqs.fasta'))\n",
    "    write.FASTA(as.AAbin(gene_AAseqs[[gene]]), \n",
    "                paste0('~/hbv_covar3/QC/step4_translate_gene/HBV_gene', gene, '_AAseqs.fasta'))\n",
    "}"
   ]
  },
  {
   "cell_type": "markdown",
   "metadata": {},
   "source": [
    "Align the protein sequence for each gene using MAFFt, replace stop codon with ambiguous codon B for MAFFT to align it as well.<br>\n",
    "example:<br>\n",
    "sed 's/\\*/B/g' HBV_geneC_AAseqs.fasta > temp.fasta<br>\n",
    "/apps/well/mafft/7.149/bin/mafft temp.fasta > HBV_geneC_AAseqs_mafft.fasta"
   ]
  },
  {
   "cell_type": "code",
   "execution_count": 1097,
   "metadata": {
    "scrolled": false
   },
   "outputs": [
    {
     "name": "stderr",
     "output_type": "stream",
     "text": [
      "start codon check...\n",
      "\n"
     ]
    },
    {
     "data": {
      "text/plain": [
       "start_codon_check\n",
       "   0    1 \n",
       "   7 4436 "
      ]
     },
     "metadata": {},
     "output_type": "display_data"
    },
    {
     "name": "stderr",
     "output_type": "stream",
     "text": [
      "stop codon check...\n",
      "\n"
     ]
    },
    {
     "data": {
      "text/plain": [
       "stop_codon_check\n",
       "   0    1 \n",
       "  15 4428 "
      ]
     },
     "metadata": {},
     "output_type": "display_data"
    },
    {
     "name": "stderr",
     "output_type": "stream",
     "text": [
      "middel stop codon check...\n",
      "\n"
     ]
    },
    {
     "data": {
      "text/plain": [
       "stop_codon_check\n",
       "   0    1 \n",
       "  52 4391 "
      ]
     },
     "metadata": {},
     "output_type": "display_data"
    }
   ],
   "source": [
    "#####################\n",
    "# some sanity check #\n",
    "#####################\n",
    "\n",
    "# compare with HBVDB sequences\n",
    "gene = 'X'\n",
    "hbvDB_fasta = ''\n",
    "if (gene == 'S'){\n",
    "    hbvDB_fasta = '~/hbv_covar3/raw_data/PreS1_hbvDB.fas'\n",
    "} else if (gene == 'C'){\n",
    "    hbvDB_fasta = '~/hbv_covar3/raw_data/PreC_hbvDB.fas'\n",
    "} else if (gene == 'X'){\n",
    "    hbvDB_fasta = '~/hbv_covar3/raw_data/X_hbvDB.fas'\n",
    "} else if (gene == 'P'){\n",
    "    hbvDB_fasta = '~/hbv_covar3/raw_data/P_hbvDB.fas'\n",
    "}\n",
    "\n",
    "hbvDB = read.dna(hbvDB_fasta, format = 'fasta', as.character = T)\n",
    "hbvDB.names = unlist(lapply(strsplit(names(hbvDB), '\\\\|'), function(x) x[3]))\n",
    "hbvDB.names = unlist(lapply(strsplit(hbvDB.names, '_'), function(x) x[1]))\n",
    "\n",
    "# does it starts with starting codon?\n",
    "message('start codon check...')\n",
    "start_codon_check = unlist(lapply(gene_AAseqs[[gene]], function(x) ifelse(x[1]=='M', 1, 0)))\n",
    "table(start_codon_check)\n",
    "start_codon_ind = names(gene_AAseqs[['S']][which(start_codon_check == 0)])\n",
    "start_codon_ind = gsub('_.', '', start_codon_ind)\n",
    "check_names = start_codon_ind[which(start_codon_ind %in% hbvDB.names)]\n",
    "hbvDB_check = hbvDB[which(hbvDB.names %in% check_names)]\n",
    "for(i in 1:length(hbvDB_check)){\n",
    "    first_codon = paste(hbvDB_check[[i]][1:3], collapse = '')\n",
    "    if (first_codon == 'atg'){\n",
    "        print(first_codon)\n",
    "    }\n",
    "}\n",
    "             \n",
    "# does it end with stop codon?\n",
    "message('stop codon check...')\n",
    "stop_codon_check = unlist(lapply(gene_AAseqs[[gene]], function(x) ifelse(x[length(x)]=='*', 1, 0)))\n",
    "table(stop_codon_check)\n",
    "stop_codon_ind = names(gene_AAseqs[['S']][which(stop_codon_check == 0)])\n",
    "stop_codon_ind = gsub('_.', '', stop_codon_ind)\n",
    "check_names = stop_codon_ind[which(stop_codon_ind %in% hbvDB.names)]\n",
    "hbvDB_check = hbvDB[which(hbvDB.names %in% check_names)]\n",
    "for(i in 1:length(hbvDB_check)){\n",
    "    last_codon = tail(translate(hbvDB_check[[i]]), n = 1)\n",
    "    if (last_codon == '*'){\n",
    "        print(names(hbvDB_check)[i])\n",
    "        print(last_codon)\n",
    "    }\n",
    "}\n",
    "\n",
    "# is there stop codon in the middle?\n",
    "hbvDB = read.dna(hbvDB_fasta, format = 'fasta', as.character = T)\n",
    "hbvDB.names = unlist(lapply(strsplit(names(hbvDB), '\\\\|'), function(x) x[3]))\n",
    "hbvDB.names = unlist(lapply(strsplit(hbvDB.names, '_'), function(x) x[1]))\n",
    "\n",
    "message('middel stop codon check...')\n",
    "stop_codon_check = unlist(lapply(gene_AAseqs[[gene]], function(x) ifelse('*' %in% x[-length(x)], 0, 1)))\n",
    "table(stop_codon_check)\n",
    "stop_codon_ind = names(gene_AAseqs[['S']][which(stop_codon_check == 0)])\n",
    "stop_codon_ind = gsub('_.', '', stop_codon_ind)\n",
    "check_names = stop_codon_ind[which(stop_codon_ind %in% hbvDB.names)]\n",
    "hbvDB_check = hbvDB[which(hbvDB.names %in% check_names)]\n",
    "for(i in 1:length(hbvDB_check)){\n",
    "    AA_seq = translate(hbvDB_check[[i]])\n",
    "    if (!('*' %in% AA_seq[-length(AA_seq)])){\n",
    "        print(names(hbvDB_check)[i])\n",
    "    }\n",
    "}\n"
   ]
  },
  {
   "cell_type": "code",
   "execution_count": 1129,
   "metadata": {},
   "outputs": [
    {
     "data": {
      "text/html": [
       "1"
      ],
      "text/latex": [
       "1"
      ],
      "text/markdown": [
       "1"
      ],
      "text/plain": [
       "[1] 1"
      ]
     },
     "metadata": {},
     "output_type": "display_data"
    }
   ],
   "source": [
    "test1 = c(1,NA,2, NA, 3)\n",
    "test2 = c(1,2, 2, NA, 1)\n",
    "length(which(test1 != test2))"
   ]
  },
  {
   "cell_type": "code",
   "execution_count": 1098,
   "metadata": {},
   "outputs": [],
   "source": [
    "##################################\n",
    "# detect frame-shifted sequences #\n",
    "##################################\n",
    "get_codon_pos = function(seq){\n",
    "    result = rep(NA, length(seq))\n",
    "    codon_pos = 0\n",
    "    for(i in 1:length(seq)){\n",
    "        nt = seq[i]\n",
    "        if (nt != '-'){\n",
    "            codon_pos = codon_pos + 1\n",
    "            if(codon_pos == 4){\n",
    "                codon_pos = 1\n",
    "            }\n",
    "            result[i] = codon_pos\n",
    "        }\n",
    "    }\n",
    "    return(result)\n",
    "}\n",
    "\n",
    "frame_shift_lst = list()\n",
    "for (gene in c('S', 'P', 'C', 'X')){\n",
    "    frame_shift_lst[[gene]] = vector()\n",
    "    # get codon position for each reference\n",
    "    gene_pos = gene_msa_pos[['A']][[gene]]\n",
    "    ref_codon_pos = lapply(analyse_genotype, function(x) {\n",
    "        ref_seq = seqs[ref_msa_id[x],gene_pos]\n",
    "        get_codon_pos(ref_seq)\n",
    "    })\n",
    "    names(ref_codon_pos) = analyse_genotype\n",
    "\n",
    "    # get consensus amino acid sequence for each genotype\n",
    "    aa_seqs_align_file = aa_seqs_align_file = paste0('~/hbv_covar3/QC/step4_translate_gene/HBV_gene', gene, '_AAseqs_mafft.fasta')\n",
    "    aa_seqs_align = do.call(rbind, read.fasta(aa_seqs_align_file, seqtype = 'AA'))\n",
    "    msa_genotypes = unlist(lapply(strsplit(rownames(seqs), '_'), function(x) x[2]))\n",
    "    consensus_seq = lapply(analyse_genotype, function(x){\n",
    "        cur_seqs = aa_seqs_align[which(msa_genotypes == x),]\n",
    "        return(consensus(cur_seqs))\n",
    "    })\n",
    "    names(consensus_seq) = analyse_genotype\n",
    "                                  \n",
    "\n",
    "    for(i in 1:nrow(seqs)){\n",
    "        name = rownames(seqs)[i]\n",
    "        seq = seqs[i,gene_pos]\n",
    "        aa_seq_align = aa_seqs_align[name,]\n",
    "        genotype = strsplit(name, '_')[[1]][2]\n",
    "        seq_codon_pos = get_codon_pos(seq)\n",
    "        diff_codon = which(seq_codon_pos != ref_codon_pos[[genotype]])\n",
    "        diff_consensus = which(aa_seq_align != consensus_seq[[genotype]])\n",
    "        # if frameshift on 20% of the alignment, regard as frameshift\n",
    "        threshold_codon = round(length(seq)/5)\n",
    "        # if mismatch on 20% of the sequence alignment, regard as frameshift\n",
    "        threshold_aa = round(length(aa_seq_align)/5)\n",
    "        if (length(diff_codon) > threshold_codon | length(diff_consensus) > threshold_aa){\n",
    "            frame_shift_lst[[gene]] = c(frame_shift_lst[[gene]], i)\n",
    "        }# else{\n",
    "        #     #stop codon appear in the middle of sequence, and is not a \"special case\", regard as frame shift\n",
    "        #     #allow stop codon to be near the 10% end of the alignment\n",
    "        #    end_length = round(length(aa_seq_align) * 0.9)\n",
    "        #    aa_seq_strip = aa_seq_align[-(end_length:length(aa_seq_align))]\n",
    "        #    stop_codon_ind = which(aa_seq_strip == 'B')\n",
    "        #    if ('B' %in% aa_seq_strip){\n",
    "        #        if (gene == 'C' & all(stop_codon_ind < 31)){\n",
    "        #            # special case: C gene, and the stop codon appear in preCore\n",
    "        #            next\n",
    "        #        } else if (gene == 'S' & all(stop_codon_ind < 272)){\n",
    "        #            # special case: S gene, and the stop codon appear in preS1/preS2\n",
    "        #            next\n",
    "        #        } else{\n",
    "        #            print(paste0(gene, ': ', stop_codon_ind))\n",
    "        #            frame_shift_lst[[gene]] = c(frame_shift_lst[[gene]], i)\n",
    "        #        }\n",
    "        #    }\n",
    "        #}\n",
    "    }\n",
    "}\n"
   ]
  },
  {
   "cell_type": "code",
   "execution_count": 1122,
   "metadata": {
    "scrolled": true
   },
   "outputs": [],
   "source": [
    "# write the sequences after removing the frame-shifted sequences\n",
    "for(gene in c('S', 'P', 'C', 'X')){\n",
    "    frame_shift_name = rownames(seqs)[frame_shift_lst[[gene]]]\n",
    "    if (length(frame_shift_name) != 0){\n",
    "        gene_aa_align = read.FASTA(paste0('~/hbv_covar3/QC/step4_translate_gene/HBV_gene', gene, '_AAseqs_mafft.fasta'), type = 'AA')\n",
    "        gene_aa_align_noShift = gene_aa_align[-which(names(gene_aa_align) %in% frame_shift_name)]\n",
    "        write.FASTA(gene_aa_align_noShift, paste0('~/hbv_covar3/QC/step4_translate_gene/HBV_gene', gene, '_AAseqs_mafft_noShift.fasta'))\n",
    "\n",
    "        gene_aa_seqs = read.FASTA(paste0('~/hbv_covar3/QC/step4_translate_gene/HBV_gene', gene, '_AAseqs.fasta'), type = 'AA')\n",
    "        gene_aa_seqs_noShift = gene_aa_seqs[-which(names(gene_aa_seqs) %in% frame_shift_name)]\n",
    "        write.FASTA(gene_aa_seqs_noShift, paste0('~/hbv_covar3/QC/step4_translate_gene/HBV_gene', gene, '_AAseqs_noShift.fasta'))\n",
    "\n",
    "        gene_nt_seqs = read.FASTA(paste0('~/hbv_covar3/QC/step4_translate_gene/HBV_gene', gene, '_seqs.fasta'), type = 'AA')\n",
    "        gene_nt_seqs_noShift = gene_nt_seqs[-which(names(gene_nt_seqs) %in% frame_shift_name)]\n",
    "        write.FASTA(gene_nt_seqs_noShift, paste0('~/hbv_covar3/QC/step4_translate_gene/HBV_gene', gene, '_seqs_noShift.fasta'))\n",
    "    }else{\n",
    "        system(paste0('cp ', '~/hbv_covar3/QC/step4_translate_gene/HBV_gene', gene, '_AAseqs_mafft.fasta ',\n",
    "                     '~/hbv_covar3/QC/step4_translate_gene/HBV_gene', gene, '_AAseqs_mafft_noShift.fasta'))\n",
    "        system(paste0('cp ', '~/hbv_covar3/QC/step4_translate_gene/HBV_gene', gene, '_AAseqs.fasta ',\n",
    "                     '~/hbv_covar3/QC/step4_translate_gene/HBV_gene', gene, '_AAseqs_noShift.fasta'))\n",
    "        system(paste0('cp ', '~/hbv_covar3/QC/step4_translate_gene/HBV_gene', gene, '_seqs.fasta ',\n",
    "                     '~/hbv_covar3/QC/step4_translate_gene/HBV_gene', gene, '_seqs_noShift.fasta'))\n",
    "    }\n",
    "}"
   ]
  },
  {
   "cell_type": "code",
   "execution_count": null,
   "metadata": {},
   "outputs": [],
   "source": []
  }
 ],
 "metadata": {
  "kernelspec": {
   "display_name": "R",
   "language": "R",
   "name": "ir"
  },
  "language_info": {
   "codemirror_mode": "r",
   "file_extension": ".r",
   "mimetype": "text/x-r-source",
   "name": "R",
   "pygments_lexer": "r",
   "version": "3.6.2"
  }
 },
 "nbformat": 4,
 "nbformat_minor": 2
}
